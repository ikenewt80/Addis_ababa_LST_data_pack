{
 "cells": [
  {
   "cell_type": "markdown",
   "metadata": {
    "colab_type": "text",
    "id": "sRaW3JnxPcjk"
   },
   "source": [
    "# Machine Learning Homework 4 (deadline: November 11th, 10:15) \n",
    "## Evaluation measures and logistic regression"
   ]
  },
  {
   "cell_type": "markdown",
   "metadata": {},
   "source": [
    "#### General instructions\n",
    "\n",
    "Please look up the general instructions about homeworks from the first homework.\n",
    "\n",
    "#### Tracking your time\n",
    "\n",
    "We will appreciate if you track your time spent on solving the homework and report it in the dedicated cells at the end of the homework. This is not compulsory and does not affect your grade in any way. The collected information will be used to improve future homeworks.\n"
   ]
  },
  {
   "cell_type": "markdown",
   "metadata": {
    "colab_type": "text",
    "id": "b0RMTalxPcjm"
   },
   "source": [
    "## Task 1: Evaluation measures (2 points)"
   ]
  },
  {
   "cell_type": "markdown",
   "metadata": {
    "colab_type": "text",
    "id": "2dkmNSNsPcjn"
   },
   "source": [
    "This task is built around the banknote authentication dataset. These data were extracted from images that were taken for the evaluation of an authentication procedure for banknotes. Original dataset has 5 features but we have decided to keep only 2, in order to make the classification task harder. There are two classes in this task: forged (1) and genuine (0). See more details about the data at https://archive.ics.uci.edu/ml/datasets/banknote+authentication ."
   ]
  },
  {
   "cell_type": "code",
   "execution_count": 2,
   "metadata": {
    "colab": {},
    "colab_type": "code",
    "id": "-36AQnzsPcjp"
   },
   "outputs": [],
   "source": [
    "import warnings\n",
    "warnings.filterwarnings('ignore')\n",
    "\n",
    "from matplotlib import pyplot as plt\n",
    "import seaborn as sns\n",
    "import numpy as np\n",
    "import pandas as pd\n",
    "\n",
    "from sklearn.model_selection import train_test_split, GridSearchCV\n",
    "from sklearn.metrics import roc_auc_score, accuracy_score, precision_score, recall_score, \\\n",
    "                            f1_score, roc_curve, confusion_matrix\n",
    "\n",
    "from sklearn.neighbors import KNeighborsClassifier\n",
    "from sklearn.ensemble import RandomForestClassifier\n",
    "from sklearn.tree import DecisionTreeClassifier\n",
    "from sklearn.svm import SVC\n",
    "\n",
    "from IPython.display import display\n",
    "%matplotlib inline\n",
    "np.random.seed(0)\n",
    "CRED = '\\033[91m'\n",
    "CEND = '\\033[0m'"
   ]
  },
  {
   "cell_type": "code",
   "execution_count": 3,
   "metadata": {
    "colab": {
     "base_uri": "https://localhost:8080/",
     "height": 425
    },
    "colab_type": "code",
    "executionInfo": {
     "elapsed": 1243,
     "status": "error",
     "timestamp": 1571844753505,
     "user": {
      "displayName": "Mikhail Papkov",
      "photoUrl": "https://lh3.googleusercontent.com/a-/AAuE7mBijAhk5XWbV_lffDkjP75-TxigY-tUspbfWx4RkQ=s64",
      "userId": "02008567344650689333"
     },
     "user_tz": -180
    },
    "id": "Ad4wyoUtPcjt",
    "outputId": "7b772dff-cf7d-4926-a350-2b8bae2909be"
   },
   "outputs": [
    {
     "data": {
      "text/html": [
       "<div>\n",
       "<style scoped>\n",
       "    .dataframe tbody tr th:only-of-type {\n",
       "        vertical-align: middle;\n",
       "    }\n",
       "\n",
       "    .dataframe tbody tr th {\n",
       "        vertical-align: top;\n",
       "    }\n",
       "\n",
       "    .dataframe thead th {\n",
       "        text-align: right;\n",
       "    }\n",
       "</style>\n",
       "<table border=\"1\" class=\"dataframe\">\n",
       "  <thead>\n",
       "    <tr style=\"text-align: right;\">\n",
       "      <th></th>\n",
       "      <th>curtosis</th>\n",
       "      <th>entropy</th>\n",
       "      <th>y</th>\n",
       "    </tr>\n",
       "  </thead>\n",
       "  <tbody>\n",
       "    <tr>\n",
       "      <td>0</td>\n",
       "      <td>-2.8073</td>\n",
       "      <td>-0.44699</td>\n",
       "      <td>0</td>\n",
       "    </tr>\n",
       "    <tr>\n",
       "      <td>1</td>\n",
       "      <td>-2.4586</td>\n",
       "      <td>-1.46210</td>\n",
       "      <td>0</td>\n",
       "    </tr>\n",
       "    <tr>\n",
       "      <td>2</td>\n",
       "      <td>1.9242</td>\n",
       "      <td>0.10645</td>\n",
       "      <td>0</td>\n",
       "    </tr>\n",
       "    <tr>\n",
       "      <td>3</td>\n",
       "      <td>-4.0112</td>\n",
       "      <td>-3.59440</td>\n",
       "      <td>0</td>\n",
       "    </tr>\n",
       "    <tr>\n",
       "      <td>4</td>\n",
       "      <td>4.5718</td>\n",
       "      <td>-0.98880</td>\n",
       "      <td>0</td>\n",
       "    </tr>\n",
       "    <tr>\n",
       "      <td>...</td>\n",
       "      <td>...</td>\n",
       "      <td>...</td>\n",
       "      <td>...</td>\n",
       "    </tr>\n",
       "    <tr>\n",
       "      <td>1367</td>\n",
       "      <td>-1.4501</td>\n",
       "      <td>-0.55949</td>\n",
       "      <td>1</td>\n",
       "    </tr>\n",
       "    <tr>\n",
       "      <td>1368</td>\n",
       "      <td>6.4774</td>\n",
       "      <td>0.34179</td>\n",
       "      <td>1</td>\n",
       "    </tr>\n",
       "    <tr>\n",
       "      <td>1369</td>\n",
       "      <td>17.5932</td>\n",
       "      <td>-2.77710</td>\n",
       "      <td>1</td>\n",
       "    </tr>\n",
       "    <tr>\n",
       "      <td>1370</td>\n",
       "      <td>12.3930</td>\n",
       "      <td>-1.28230</td>\n",
       "      <td>1</td>\n",
       "    </tr>\n",
       "    <tr>\n",
       "      <td>1371</td>\n",
       "      <td>2.6842</td>\n",
       "      <td>1.19520</td>\n",
       "      <td>1</td>\n",
       "    </tr>\n",
       "  </tbody>\n",
       "</table>\n",
       "<p>1372 rows × 3 columns</p>\n",
       "</div>"
      ],
      "text/plain": [
       "      curtosis  entropy  y\n",
       "0      -2.8073 -0.44699  0\n",
       "1      -2.4586 -1.46210  0\n",
       "2       1.9242  0.10645  0\n",
       "3      -4.0112 -3.59440  0\n",
       "4       4.5718 -0.98880  0\n",
       "...        ...      ... ..\n",
       "1367   -1.4501 -0.55949  1\n",
       "1368    6.4774  0.34179  1\n",
       "1369   17.5932 -2.77710  1\n",
       "1370   12.3930 -1.28230  1\n",
       "1371    2.6842  1.19520  1\n",
       "\n",
       "[1372 rows x 3 columns]"
      ]
     },
     "metadata": {},
     "output_type": "display_data"
    }
   ],
   "source": [
    "df = pd.read_csv('data_banknote_authentication.txt', header = None, names=['variance','skewness','curtosis','entropy','y'])\n",
    "df = df.drop(columns=['skewness','variance']) # We'll remove these two columns to make the task harder\n",
    "pd.set_option('max_rows', 10)\n",
    "display(df)"
   ]
  },
  {
   "cell_type": "code",
   "execution_count": 4,
   "metadata": {
    "colab": {},
    "colab_type": "code",
    "id": "ExLaVdjZPcjy"
   },
   "outputs": [
    {
     "data": {
      "image/png": "[encoded data removed]",
      "text/plain": [
       "<Figure size 432x288 with 1 Axes>"
      ]
     },
     "metadata": {
      "needs_background": "light"
     },
     "output_type": "display_data"
    }
   ],
   "source": [
    "sns.scatterplot(df['curtosis'],df['entropy'],hue=df['y'])\n",
    "plt.show()"
   ]
  },
  {
   "cell_type": "code",
   "execution_count": 5,
   "metadata": {
    "colab": {},
    "colab_type": "code",
    "id": "G0fLiOZPPcj5"
   },
   "outputs": [
    {
     "data": {
      "text/plain": [
       "((960, 2), (412, 2))"
      ]
     },
     "execution_count": 5,
     "metadata": {},
     "output_type": "execute_result"
    }
   ],
   "source": [
    "X_train, X_test, y_train, y_test = train_test_split(df.drop('y', axis=1), df.y, \n",
    "                                                    train_size=0.7, test_size=0.3, \n",
    "                                                    random_state=0, shuffle=True, stratify=df.y)\n",
    "X_train.shape, X_test.shape"
   ]
  },
  {
   "cell_type": "markdown",
   "metadata": {
    "colab_type": "text",
    "id": "YqQHuuU9PckD"
   },
   "source": [
    "Now we will train and evaluate several classifiers. We will tune them as well in order to find optimal parameters and achieve  the best possible performance."
   ]
  },
  {
   "cell_type": "markdown",
   "metadata": {
    "colab_type": "text",
    "id": "3A70cFZ3PckE"
   },
   "source": [
    "Every `sklearn` classifier has a set of tuneable parameters, you can check the list of defaults parameters like that:"
   ]
  },
  {
   "cell_type": "code",
   "execution_count": 6,
   "metadata": {
    "colab": {},
    "colab_type": "code",
    "id": "iD2xaDfOPckF"
   },
   "outputs": [
    {
     "data": {
      "text/plain": [
       "{'algorithm': 'auto',\n",
       " 'leaf_size': 30,\n",
       " 'metric': 'minkowski',\n",
       " 'metric_params': None,\n",
       " 'n_jobs': None,\n",
       " 'n_neighbors': 5,\n",
       " 'p': 2,\n",
       " 'weights': 'uniform'}"
      ]
     },
     "execution_count": 6,
     "metadata": {},
     "output_type": "execute_result"
    }
   ],
   "source": [
    "knn = KNeighborsClassifier()\n",
    "knn.get_params()"
   ]
  },
  {
   "cell_type": "markdown",
   "metadata": {
    "colab_type": "text",
    "id": "pcYHMLPBPckI"
   },
   "source": [
    "For the parameter tuning you can use Grid Search (check every possible combination of parameters from the predefined dictionary). Let us see what parameter values it found as best:"
   ]
  },
  {
   "cell_type": "code",
   "execution_count": 11,
   "metadata": {
    "colab": {},
    "colab_type": "code",
    "id": "1KaHbXW5PckJ"
   },
   "outputs": [
    {
     "data": {
      "text/plain": [
       "{'n_neighbors': 1, 'weights': 'uniform'}"
      ]
     },
     "execution_count": 11,
     "metadata": {},
     "output_type": "execute_result"
    }
   ],
   "source": [
    "knn_param_grid = {\n",
    "    'weights':['uniform', 'distance'],\n",
    "    'n_neighbors': [1, 3, 5, 10, 15, 20, 30, 100]\n",
    "}\n",
    "\n",
    "knn_grid_search = GridSearchCV(knn, knn_param_grid, cv=3, return_train_score=True)\n",
    "knn_grid_search.fit(X_train, y_train)\n",
    "knn_grid_search.best_params_"
   ]
  },
  {
   "cell_type": "markdown",
   "metadata": {
    "colab_type": "text",
    "id": "Iq4Kf-KOPckN"
   },
   "source": [
    "- **(a)** On the test set calculate the accuracy of the KNN model with default parameters and with the parameters selected by cross-validation. Which is better and why?"
   ]
  },
  {
   "cell_type": "code",
   "execution_count": 13,
   "metadata": {
    "colab": {},
    "colab_type": "code",
    "id": "JMDi_v1aPckO"
   },
   "outputs": [
    {
     "name": "stdout",
     "output_type": "stream",
     "text": [
      "KNN test accuracy with default parameters: 0.7257281553398058\n",
      "KNN test accuracy after parameter tuning : 0.6820388349514563\n"
     ]
    }
   ],
   "source": [
    "knn_default = KNeighborsClassifier()\n",
    "try:\n",
    "    ##### YOUR CODE STARTS ##### (please do not delete this line)\n",
    "    #raise NotImplementedError(\"You need to remove \\\"raise NotImplementedErrors\\\" lines after writing your code!\")\n",
    "    \n",
    "    knn_default_mod = knn_default.fit(X_train,y_train)\n",
    "    knn_default_test_accuracy = accuracy_score(y_test,knn_default_mod.predict(X_test))\n",
    "    \n",
    "    knn_grid_search_clf = KNeighborsClassifier(n_neighbors= 1, weights= 'uniform')\n",
    "    knn_grid_search_mod = knn_grid_search.fit(X_train,y_train)\n",
    "    knn_tuned_test_accuracy=accuracy_score(y_test, knn_grid_search_mod.predict(X_test))\n",
    "    \n",
    "    print('KNN test accuracy with default parameters:',knn_default_test_accuracy)\n",
    "    print('KNN test accuracy after parameter tuning :',knn_tuned_test_accuracy)\n",
    "    \n",
    "    ##### YOUR CODE ENDS ##### (please do not delete this line)\n",
    "\n",
    "except NotImplementedError as e:\n",
    "    print(CRED,\"TODO:\",e,CEND)\n",
    "except Exception as e:\n",
    "    print(\"Exception:\", e)"
   ]
  },
  {
   "cell_type": "markdown",
   "metadata": {
    "colab_type": "text",
    "id": "ZGkYj5hkPckU"
   },
   "source": [
    "**<font color='purple'>Answer to (a):</font>** the best parameters chosen from the grid search does not guarantee a higher accuracy as other parameters were not included. the default classifier had more parameters."
   ]
  },
  {
   "cell_type": "markdown",
   "metadata": {
    "colab_type": "text",
    "id": "GJVKkrH-PckX"
   },
   "source": [
    "- **(b)** Look at the detailed results of cross-validation as printed below. The columns ending with '_time' are about running time, but please describe the meaning of other columns."
   ]
  },
  {
   "cell_type": "code",
   "execution_count": 17,
   "metadata": {
    "colab": {},
    "colab_type": "code",
    "id": "ECa7jPA3PckZ"
   },
   "outputs": [
    {
     "data": {
      "text/html": [
       "<div>\n",
       "<style scoped>\n",
       "    .dataframe tbody tr th:only-of-type {\n",
       "        vertical-align: middle;\n",
       "    }\n",
       "\n",
       "    .dataframe tbody tr th {\n",
       "        vertical-align: top;\n",
       "    }\n",
       "\n",
       "    .dataframe thead th {\n",
       "        text-align: right;\n",
       "    }\n",
       "</style>\n",
       "<table border=\"1\" class=\"dataframe\">\n",
       "  <thead>\n",
       "    <tr style=\"text-align: right;\">\n",
       "      <th></th>\n",
       "      <th>mean_fit_time</th>\n",
       "      <th>std_fit_time</th>\n",
       "      <th>mean_score_time</th>\n",
       "      <th>std_score_time</th>\n",
       "      <th>param_n_neighbors</th>\n",
       "      <th>param_weights</th>\n",
       "      <th>params</th>\n",
       "      <th>split0_test_score</th>\n",
       "      <th>split1_test_score</th>\n",
       "      <th>split2_test_score</th>\n",
       "      <th>mean_test_score</th>\n",
       "      <th>std_test_score</th>\n",
       "      <th>rank_test_score</th>\n",
       "      <th>split0_train_score</th>\n",
       "      <th>split1_train_score</th>\n",
       "      <th>split2_train_score</th>\n",
       "      <th>mean_train_score</th>\n",
       "      <th>std_train_score</th>\n",
       "    </tr>\n",
       "  </thead>\n",
       "  <tbody>\n",
       "    <tr>\n",
       "      <td>0</td>\n",
       "      <td>0.002999</td>\n",
       "      <td>8.166321e-04</td>\n",
       "      <td>0.015324</td>\n",
       "      <td>3.089388e-03</td>\n",
       "      <td>1</td>\n",
       "      <td>uniform</td>\n",
       "      <td>{'n_neighbors': 1, 'weights': 'uniform'}</td>\n",
       "      <td>0.704050</td>\n",
       "      <td>0.731250</td>\n",
       "      <td>0.699060</td>\n",
       "      <td>0.711458</td>\n",
       "      <td>0.014142</td>\n",
       "      <td>1</td>\n",
       "      <td>1.000000</td>\n",
       "      <td>1.000000</td>\n",
       "      <td>1.000000</td>\n",
       "      <td>1.000000</td>\n",
       "      <td>0.000000</td>\n",
       "    </tr>\n",
       "    <tr>\n",
       "      <td>1</td>\n",
       "      <td>0.002664</td>\n",
       "      <td>9.414482e-04</td>\n",
       "      <td>0.001999</td>\n",
       "      <td>5.947204e-07</td>\n",
       "      <td>1</td>\n",
       "      <td>distance</td>\n",
       "      <td>{'n_neighbors': 1, 'weights': 'distance'}</td>\n",
       "      <td>0.704050</td>\n",
       "      <td>0.731250</td>\n",
       "      <td>0.699060</td>\n",
       "      <td>0.711458</td>\n",
       "      <td>0.014142</td>\n",
       "      <td>1</td>\n",
       "      <td>1.000000</td>\n",
       "      <td>1.000000</td>\n",
       "      <td>1.000000</td>\n",
       "      <td>1.000000</td>\n",
       "      <td>0.000000</td>\n",
       "    </tr>\n",
       "    <tr>\n",
       "      <td>2</td>\n",
       "      <td>0.003995</td>\n",
       "      <td>1.629176e-03</td>\n",
       "      <td>0.015989</td>\n",
       "      <td>3.555508e-03</td>\n",
       "      <td>3</td>\n",
       "      <td>uniform</td>\n",
       "      <td>{'n_neighbors': 3, 'weights': 'uniform'}</td>\n",
       "      <td>0.704050</td>\n",
       "      <td>0.681250</td>\n",
       "      <td>0.699060</td>\n",
       "      <td>0.694792</td>\n",
       "      <td>0.009790</td>\n",
       "      <td>8</td>\n",
       "      <td>0.866980</td>\n",
       "      <td>0.853125</td>\n",
       "      <td>0.861154</td>\n",
       "      <td>0.860420</td>\n",
       "      <td>0.005680</td>\n",
       "    </tr>\n",
       "    <tr>\n",
       "      <td>3</td>\n",
       "      <td>0.001999</td>\n",
       "      <td>5.840039e-07</td>\n",
       "      <td>0.003334</td>\n",
       "      <td>4.738992e-04</td>\n",
       "      <td>3</td>\n",
       "      <td>distance</td>\n",
       "      <td>{'n_neighbors': 3, 'weights': 'distance'}</td>\n",
       "      <td>0.669782</td>\n",
       "      <td>0.684375</td>\n",
       "      <td>0.705329</td>\n",
       "      <td>0.686458</td>\n",
       "      <td>0.014587</td>\n",
       "      <td>12</td>\n",
       "      <td>1.000000</td>\n",
       "      <td>1.000000</td>\n",
       "      <td>1.000000</td>\n",
       "      <td>1.000000</td>\n",
       "      <td>0.000000</td>\n",
       "    </tr>\n",
       "    <tr>\n",
       "      <td>4</td>\n",
       "      <td>0.002333</td>\n",
       "      <td>4.709208e-04</td>\n",
       "      <td>0.013338</td>\n",
       "      <td>1.253914e-03</td>\n",
       "      <td>5</td>\n",
       "      <td>uniform</td>\n",
       "      <td>{'n_neighbors': 5, 'weights': 'uniform'}</td>\n",
       "      <td>0.685358</td>\n",
       "      <td>0.653125</td>\n",
       "      <td>0.686520</td>\n",
       "      <td>0.675000</td>\n",
       "      <td>0.015475</td>\n",
       "      <td>14</td>\n",
       "      <td>0.813772</td>\n",
       "      <td>0.796875</td>\n",
       "      <td>0.811232</td>\n",
       "      <td>0.807293</td>\n",
       "      <td>0.007439</td>\n",
       "    </tr>\n",
       "    <tr>\n",
       "      <td>5</td>\n",
       "      <td>0.002999</td>\n",
       "      <td>8.152719e-04</td>\n",
       "      <td>0.002337</td>\n",
       "      <td>4.789569e-04</td>\n",
       "      <td>5</td>\n",
       "      <td>distance</td>\n",
       "      <td>{'n_neighbors': 5, 'weights': 'distance'}</td>\n",
       "      <td>0.679128</td>\n",
       "      <td>0.696875</td>\n",
       "      <td>0.689655</td>\n",
       "      <td>0.688542</td>\n",
       "      <td>0.007293</td>\n",
       "      <td>9</td>\n",
       "      <td>1.000000</td>\n",
       "      <td>1.000000</td>\n",
       "      <td>1.000000</td>\n",
       "      <td>1.000000</td>\n",
       "      <td>0.000000</td>\n",
       "    </tr>\n",
       "    <tr>\n",
       "      <td>6</td>\n",
       "      <td>0.002991</td>\n",
       "      <td>8.174554e-04</td>\n",
       "      <td>0.013313</td>\n",
       "      <td>1.239343e-03</td>\n",
       "      <td>10</td>\n",
       "      <td>uniform</td>\n",
       "      <td>{'n_neighbors': 10, 'weights': 'uniform'}</td>\n",
       "      <td>0.688474</td>\n",
       "      <td>0.684375</td>\n",
       "      <td>0.692790</td>\n",
       "      <td>0.688542</td>\n",
       "      <td>0.003433</td>\n",
       "      <td>9</td>\n",
       "      <td>0.762128</td>\n",
       "      <td>0.765625</td>\n",
       "      <td>0.764431</td>\n",
       "      <td>0.764061</td>\n",
       "      <td>0.001451</td>\n",
       "    </tr>\n",
       "    <tr>\n",
       "      <td>7</td>\n",
       "      <td>0.002332</td>\n",
       "      <td>4.711456e-04</td>\n",
       "      <td>0.003325</td>\n",
       "      <td>4.616485e-04</td>\n",
       "      <td>10</td>\n",
       "      <td>distance</td>\n",
       "      <td>{'n_neighbors': 10, 'weights': 'distance'}</td>\n",
       "      <td>0.704050</td>\n",
       "      <td>0.709375</td>\n",
       "      <td>0.699060</td>\n",
       "      <td>0.704167</td>\n",
       "      <td>0.004209</td>\n",
       "      <td>4</td>\n",
       "      <td>1.000000</td>\n",
       "      <td>1.000000</td>\n",
       "      <td>1.000000</td>\n",
       "      <td>1.000000</td>\n",
       "      <td>0.000000</td>\n",
       "    </tr>\n",
       "    <tr>\n",
       "      <td>8</td>\n",
       "      <td>0.001999</td>\n",
       "      <td>4.495664e-07</td>\n",
       "      <td>0.017643</td>\n",
       "      <td>5.243261e-03</td>\n",
       "      <td>15</td>\n",
       "      <td>uniform</td>\n",
       "      <td>{'n_neighbors': 15, 'weights': 'uniform'}</td>\n",
       "      <td>0.716511</td>\n",
       "      <td>0.696875</td>\n",
       "      <td>0.652038</td>\n",
       "      <td>0.688542</td>\n",
       "      <td>0.026973</td>\n",
       "      <td>9</td>\n",
       "      <td>0.732394</td>\n",
       "      <td>0.721875</td>\n",
       "      <td>0.756630</td>\n",
       "      <td>0.736967</td>\n",
       "      <td>0.014552</td>\n",
       "    </tr>\n",
       "    <tr>\n",
       "      <td>9</td>\n",
       "      <td>0.002998</td>\n",
       "      <td>7.018853e-07</td>\n",
       "      <td>0.002999</td>\n",
       "      <td>6.836514e-07</td>\n",
       "      <td>15</td>\n",
       "      <td>distance</td>\n",
       "      <td>{'n_neighbors': 15, 'weights': 'distance'}</td>\n",
       "      <td>0.722741</td>\n",
       "      <td>0.718750</td>\n",
       "      <td>0.667712</td>\n",
       "      <td>0.703125</td>\n",
       "      <td>0.025036</td>\n",
       "      <td>5</td>\n",
       "      <td>1.000000</td>\n",
       "      <td>1.000000</td>\n",
       "      <td>1.000000</td>\n",
       "      <td>1.000000</td>\n",
       "      <td>0.000000</td>\n",
       "    </tr>\n",
       "  </tbody>\n",
       "</table>\n",
       "</div>"
      ],
      "text/plain": [
       "   mean_fit_time  std_fit_time  mean_score_time  std_score_time  \\\n",
       "0       0.002999  8.166321e-04         0.015324    3.089388e-03   \n",
       "1       0.002664  9.414482e-04         0.001999    5.947204e-07   \n",
       "2       0.003995  1.629176e-03         0.015989    3.555508e-03   \n",
       "3       0.001999  5.840039e-07         0.003334    4.738992e-04   \n",
       "4       0.002333  4.709208e-04         0.013338    1.253914e-03   \n",
       "5       0.002999  8.152719e-04         0.002337    4.789569e-04   \n",
       "6       0.002991  8.174554e-04         0.013313    1.239343e-03   \n",
       "7       0.002332  4.711456e-04         0.003325    4.616485e-04   \n",
       "8       0.001999  4.495664e-07         0.017643    5.243261e-03   \n",
       "9       0.002998  7.018853e-07         0.002999    6.836514e-07   \n",
       "\n",
       "  param_n_neighbors param_weights                                      params  \\\n",
       "0                 1       uniform    {'n_neighbors': 1, 'weights': 'uniform'}   \n",
       "1                 1      distance   {'n_neighbors': 1, 'weights': 'distance'}   \n",
       "2                 3       uniform    {'n_neighbors': 3, 'weights': 'uniform'}   \n",
       "3                 3      distance   {'n_neighbors': 3, 'weights': 'distance'}   \n",
       "4                 5       uniform    {'n_neighbors': 5, 'weights': 'uniform'}   \n",
       "5                 5      distance   {'n_neighbors': 5, 'weights': 'distance'}   \n",
       "6                10       uniform   {'n_neighbors': 10, 'weights': 'uniform'}   \n",
       "7                10      distance  {'n_neighbors': 10, 'weights': 'distance'}   \n",
       "8                15       uniform   {'n_neighbors': 15, 'weights': 'uniform'}   \n",
       "9                15      distance  {'n_neighbors': 15, 'weights': 'distance'}   \n",
       "\n",
       "   split0_test_score  split1_test_score  split2_test_score  mean_test_score  \\\n",
       "0           0.704050           0.731250           0.699060         0.711458   \n",
       "1           0.704050           0.731250           0.699060         0.711458   \n",
       "2           0.704050           0.681250           0.699060         0.694792   \n",
       "3           0.669782           0.684375           0.705329         0.686458   \n",
       "4           0.685358           0.653125           0.686520         0.675000   \n",
       "5           0.679128           0.696875           0.689655         0.688542   \n",
       "6           0.688474           0.684375           0.692790         0.688542   \n",
       "7           0.704050           0.709375           0.699060         0.704167   \n",
       "8           0.716511           0.696875           0.652038         0.688542   \n",
       "9           0.722741           0.718750           0.667712         0.703125   \n",
       "\n",
       "   std_test_score  rank_test_score  split0_train_score  split1_train_score  \\\n",
       "0        0.014142                1            1.000000            1.000000   \n",
       "1        0.014142                1            1.000000            1.000000   \n",
       "2        0.009790                8            0.866980            0.853125   \n",
       "3        0.014587               12            1.000000            1.000000   \n",
       "4        0.015475               14            0.813772            0.796875   \n",
       "5        0.007293                9            1.000000            1.000000   \n",
       "6        0.003433                9            0.762128            0.765625   \n",
       "7        0.004209                4            1.000000            1.000000   \n",
       "8        0.026973                9            0.732394            0.721875   \n",
       "9        0.025036                5            1.000000            1.000000   \n",
       "\n",
       "   split2_train_score  mean_train_score  std_train_score  \n",
       "0            1.000000          1.000000         0.000000  \n",
       "1            1.000000          1.000000         0.000000  \n",
       "2            0.861154          0.860420         0.005680  \n",
       "3            1.000000          1.000000         0.000000  \n",
       "4            0.811232          0.807293         0.007439  \n",
       "5            1.000000          1.000000         0.000000  \n",
       "6            0.764431          0.764061         0.001451  \n",
       "7            1.000000          1.000000         0.000000  \n",
       "8            0.756630          0.736967         0.014552  \n",
       "9            1.000000          1.000000         0.000000  "
      ]
     },
     "execution_count": 17,
     "metadata": {},
     "output_type": "execute_result"
    }
   ],
   "source": [
    "knn_cv_results = pd.DataFrame(knn_grid_search.cv_results_)\n",
    "knn_cv_results.head(10)\n"
   ]
  },
  {
   "cell_type": "markdown",
   "metadata": {
    "colab_type": "text",
    "id": "6Yp4x6vJPckd"
   },
   "source": [
    "**<font color='purple'>Answer to (b):</font>**\n",
    "param_n_neighbors - Specify the various options for number of neighbors\n",
    "param_weights -      Specify the various options for weighting option.\n",
    "params - the combination of parameter values from the listed options\n",
    "split0_test_score - the validation score on the 1st split\n",
    "split1_test_score - the validation score on the 2nd split\n",
    "split2_test_score- the validation score on the 3rd split\n",
    "mean_test_score - the mean score for all test splits given a combination of parameters.\n",
    "std_test_score  - the standard deviation of the various validation scores from the  mean score for the given combination of parameters.\n",
    "rank_test_score - rating of the parameter combinations based on their mean_test_score(s)q\n",
    "split0_train_score - the training score (accuracy) for the first split - fold\n",
    "split1_train_score - the training score  for the 2nd split - fold\n",
    "split2_train_score-  the training score  for the 3rd split - fold\n",
    "mean_train_score - the mean score for the for all the trianing for all the splits\n",
    "std_train_score - the standard deviation of the training scores from the splits for a given combinatio of parameters."
   ]
  },
  {
   "cell_type": "markdown",
   "metadata": {
    "colab_type": "text",
    "id": "QpA9vtYVPcke"
   },
   "source": [
    "<font color='purple'>Note that the column names involving the word 'test' might be a bit confusing - they are referring to the test fold within cross-validation, which perhaps could be better called a validation fold. Therefore, the accuracies in this table are also potentially different from what you found in subtask (b).</font>"
   ]
  },
  {
   "cell_type": "markdown",
   "metadata": {
    "colab_type": "text",
    "id": "pWOAY1ylPckf"
   },
   "source": [
    "Let us now keep only some of the columns which are the most relevant for our purpose. Also, let us sort the results by mean_test_score."
   ]
  },
  {
   "cell_type": "code",
   "execution_count": 25,
   "metadata": {
    "colab": {},
    "colab_type": "code",
    "id": "63Gd5svZPckh"
   },
   "outputs": [
    {
     "data": {
      "text/html": [
       "<div>\n",
       "<style scoped>\n",
       "    .dataframe tbody tr th:only-of-type {\n",
       "        vertical-align: middle;\n",
       "    }\n",
       "\n",
       "    .dataframe tbody tr th {\n",
       "        vertical-align: top;\n",
       "    }\n",
       "\n",
       "    .dataframe thead th {\n",
       "        text-align: right;\n",
       "    }\n",
       "</style>\n",
       "<table border=\"1\" class=\"dataframe\">\n",
       "  <thead>\n",
       "    <tr style=\"text-align: right;\">\n",
       "      <th></th>\n",
       "      <th>param_n_neighbors</th>\n",
       "      <th>param_weights</th>\n",
       "      <th>mean_test_score</th>\n",
       "      <th>mean_train_score</th>\n",
       "    </tr>\n",
       "  </thead>\n",
       "  <tbody>\n",
       "    <tr>\n",
       "      <td>0</td>\n",
       "      <td>1</td>\n",
       "      <td>uniform</td>\n",
       "      <td>0.711458</td>\n",
       "      <td>1.000000</td>\n",
       "    </tr>\n",
       "    <tr>\n",
       "      <td>1</td>\n",
       "      <td>1</td>\n",
       "      <td>distance</td>\n",
       "      <td>0.711458</td>\n",
       "      <td>1.000000</td>\n",
       "    </tr>\n",
       "    <tr>\n",
       "      <td>2</td>\n",
       "      <td>3</td>\n",
       "      <td>uniform</td>\n",
       "      <td>0.694792</td>\n",
       "      <td>0.860420</td>\n",
       "    </tr>\n",
       "    <tr>\n",
       "      <td>3</td>\n",
       "      <td>3</td>\n",
       "      <td>distance</td>\n",
       "      <td>0.686458</td>\n",
       "      <td>1.000000</td>\n",
       "    </tr>\n",
       "    <tr>\n",
       "      <td>5</td>\n",
       "      <td>5</td>\n",
       "      <td>distance</td>\n",
       "      <td>0.688542</td>\n",
       "      <td>1.000000</td>\n",
       "    </tr>\n",
       "    <tr>\n",
       "      <td>4</td>\n",
       "      <td>5</td>\n",
       "      <td>uniform</td>\n",
       "      <td>0.675000</td>\n",
       "      <td>0.807293</td>\n",
       "    </tr>\n",
       "    <tr>\n",
       "      <td>7</td>\n",
       "      <td>10</td>\n",
       "      <td>distance</td>\n",
       "      <td>0.704167</td>\n",
       "      <td>1.000000</td>\n",
       "    </tr>\n",
       "    <tr>\n",
       "      <td>6</td>\n",
       "      <td>10</td>\n",
       "      <td>uniform</td>\n",
       "      <td>0.688542</td>\n",
       "      <td>0.764061</td>\n",
       "    </tr>\n",
       "    <tr>\n",
       "      <td>9</td>\n",
       "      <td>15</td>\n",
       "      <td>distance</td>\n",
       "      <td>0.703125</td>\n",
       "      <td>1.000000</td>\n",
       "    </tr>\n",
       "    <tr>\n",
       "      <td>8</td>\n",
       "      <td>15</td>\n",
       "      <td>uniform</td>\n",
       "      <td>0.688542</td>\n",
       "      <td>0.736967</td>\n",
       "    </tr>\n",
       "    <tr>\n",
       "      <td>11</td>\n",
       "      <td>20</td>\n",
       "      <td>distance</td>\n",
       "      <td>0.709375</td>\n",
       "      <td>1.000000</td>\n",
       "    </tr>\n",
       "    <tr>\n",
       "      <td>10</td>\n",
       "      <td>20</td>\n",
       "      <td>uniform</td>\n",
       "      <td>0.677083</td>\n",
       "      <td>0.702064</td>\n",
       "    </tr>\n",
       "    <tr>\n",
       "      <td>13</td>\n",
       "      <td>30</td>\n",
       "      <td>distance</td>\n",
       "      <td>0.703125</td>\n",
       "      <td>1.000000</td>\n",
       "    </tr>\n",
       "    <tr>\n",
       "      <td>12</td>\n",
       "      <td>30</td>\n",
       "      <td>uniform</td>\n",
       "      <td>0.673958</td>\n",
       "      <td>0.684888</td>\n",
       "    </tr>\n",
       "    <tr>\n",
       "      <td>15</td>\n",
       "      <td>100</td>\n",
       "      <td>distance</td>\n",
       "      <td>0.703125</td>\n",
       "      <td>1.000000</td>\n",
       "    </tr>\n",
       "    <tr>\n",
       "      <td>14</td>\n",
       "      <td>100</td>\n",
       "      <td>uniform</td>\n",
       "      <td>0.603125</td>\n",
       "      <td>0.609365</td>\n",
       "    </tr>\n",
       "  </tbody>\n",
       "</table>\n",
       "</div>"
      ],
      "text/plain": [
       "   param_n_neighbors param_weights  mean_test_score  mean_train_score\n",
       "0                  1       uniform         0.711458          1.000000\n",
       "1                  1      distance         0.711458          1.000000\n",
       "2                  3       uniform         0.694792          0.860420\n",
       "3                  3      distance         0.686458          1.000000\n",
       "5                  5      distance         0.688542          1.000000\n",
       "4                  5       uniform         0.675000          0.807293\n",
       "7                 10      distance         0.704167          1.000000\n",
       "6                 10       uniform         0.688542          0.764061\n",
       "9                 15      distance         0.703125          1.000000\n",
       "8                 15       uniform         0.688542          0.736967\n",
       "11                20      distance         0.709375          1.000000\n",
       "10                20       uniform         0.677083          0.702064\n",
       "13                30      distance         0.703125          1.000000\n",
       "12                30       uniform         0.673958          0.684888\n",
       "15               100      distance         0.703125          1.000000\n",
       "14               100       uniform         0.603125          0.609365"
      ]
     },
     "execution_count": 25,
     "metadata": {},
     "output_type": "execute_result"
    }
   ],
   "source": [
    "def cv_column_filter(df):\n",
    "    return(df.loc[:,[c for c in df.columns \n",
    "                     if (c[:11]=='mean_train_') or \n",
    "                        (c[:10]=='mean_test_') or \n",
    "                        (c[:6]=='param_')]])\n",
    "\n",
    "knn_cv_results = cv_column_filter(knn_cv_results)\n",
    "knn_cv_results = knn_cv_results.sort_values('mean_test_score',ascending=False)\n",
    "pd.set_option('max_rows', 20)\n",
    "knn_cv_results.sort_values(by=['param_n_neighbors'],ascending=True)"
   ]
  },
  {
   "cell_type": "markdown",
   "metadata": {
    "colab_type": "text",
    "id": "ygEDdmB6Pckm"
   },
   "source": [
    "- **(c)** Looking at the above table, are both parameters important factors for the performance of KNN? Generally, is more or less neighbours good in this task? Is uniform or distance-based weighting better in this task?"
   ]
  },
  {
   "cell_type": "markdown",
   "metadata": {
    "colab_type": "text",
    "id": "PqQlEfTwPckp"
   },
   "source": [
    "**<font color='purple'>Answer to (c):</font>** When the number of neighbours is one, the distance does not influence the score based on this table. The score starts to vary based on the weighting parameter when the number of neighbours increases. Generally as the number of neighbours increase the distance weighting returns higher scores. The safest option or 'best' is one neighbour with any weighting parameter."
   ]
  },
  {
   "cell_type": "markdown",
   "metadata": {
    "colab_type": "text",
    "id": "8SAQ0-cjPckq"
   },
   "source": [
    "- **(d)** Let us now wrap up parameter tuning process into a single function, which would later work for other types of models as well, not just KNN models. Compare the displayed table to knn_cv_results above and explain the meaning of extra columns."
   ]
  },
  {
   "cell_type": "code",
   "execution_count": 26,
   "metadata": {
    "colab": {},
    "colab_type": "code",
    "id": "KUzRUV1wPcks"
   },
   "outputs": [],
   "source": [
    "def tune_model(model, param_grid, X_train=X_train, y_train=y_train, cv=5, max_rows=10):\n",
    "    grid_search = GridSearchCV(model, param_grid, cv=cv, return_train_score=True, scoring=['accuracy','f1','roc_auc'],refit='accuracy')\n",
    "    grid_search.fit(X_train, y_train)\n",
    "    cv_results = pd.DataFrame(grid_search.cv_results_)\n",
    "    cv_results = cv_column_filter(cv_results)\n",
    "    cv_results = cv_results.sort_values('mean_test_accuracy',ascending=False)\n",
    "    pd.set_option('max_rows',max_rows)\n",
    "    display(cv_results)\n",
    "    pd.reset_option('max_rows')\n",
    "    return(grid_search)"
   ]
  },
  {
   "cell_type": "code",
   "execution_count": 27,
   "metadata": {
    "colab": {},
    "colab_type": "code",
    "id": "-yWG4VikPckv"
   },
   "outputs": [
    {
     "data": {
      "text/html": [
       "<div>\n",
       "<style scoped>\n",
       "    .dataframe tbody tr th:only-of-type {\n",
       "        vertical-align: middle;\n",
       "    }\n",
       "\n",
       "    .dataframe tbody tr th {\n",
       "        vertical-align: top;\n",
       "    }\n",
       "\n",
       "    .dataframe thead th {\n",
       "        text-align: right;\n",
       "    }\n",
       "</style>\n",
       "<table border=\"1\" class=\"dataframe\">\n",
       "  <thead>\n",
       "    <tr style=\"text-align: right;\">\n",
       "      <th></th>\n",
       "      <th>param_n_neighbors</th>\n",
       "      <th>param_weights</th>\n",
       "      <th>mean_test_accuracy</th>\n",
       "      <th>mean_train_accuracy</th>\n",
       "      <th>mean_test_f1</th>\n",
       "      <th>mean_train_f1</th>\n",
       "      <th>mean_test_roc_auc</th>\n",
       "      <th>mean_train_roc_auc</th>\n",
       "    </tr>\n",
       "  </thead>\n",
       "  <tbody>\n",
       "    <tr>\n",
       "      <td>0</td>\n",
       "      <td>1</td>\n",
       "      <td>uniform</td>\n",
       "      <td>0.711458</td>\n",
       "      <td>1.000000</td>\n",
       "      <td>0.678228</td>\n",
       "      <td>1.000000</td>\n",
       "      <td>0.708682</td>\n",
       "      <td>1.000000</td>\n",
       "    </tr>\n",
       "    <tr>\n",
       "      <td>1</td>\n",
       "      <td>1</td>\n",
       "      <td>distance</td>\n",
       "      <td>0.711458</td>\n",
       "      <td>1.000000</td>\n",
       "      <td>0.678228</td>\n",
       "      <td>1.000000</td>\n",
       "      <td>0.708682</td>\n",
       "      <td>1.000000</td>\n",
       "    </tr>\n",
       "    <tr>\n",
       "      <td>11</td>\n",
       "      <td>20</td>\n",
       "      <td>distance</td>\n",
       "      <td>0.709375</td>\n",
       "      <td>1.000000</td>\n",
       "      <td>0.647773</td>\n",
       "      <td>1.000000</td>\n",
       "      <td>0.776864</td>\n",
       "      <td>1.000000</td>\n",
       "    </tr>\n",
       "    <tr>\n",
       "      <td>7</td>\n",
       "      <td>10</td>\n",
       "      <td>distance</td>\n",
       "      <td>0.704167</td>\n",
       "      <td>1.000000</td>\n",
       "      <td>0.651873</td>\n",
       "      <td>1.000000</td>\n",
       "      <td>0.784004</td>\n",
       "      <td>1.000000</td>\n",
       "    </tr>\n",
       "    <tr>\n",
       "      <td>9</td>\n",
       "      <td>15</td>\n",
       "      <td>distance</td>\n",
       "      <td>0.703125</td>\n",
       "      <td>1.000000</td>\n",
       "      <td>0.644133</td>\n",
       "      <td>1.000000</td>\n",
       "      <td>0.778085</td>\n",
       "      <td>1.000000</td>\n",
       "    </tr>\n",
       "    <tr>\n",
       "      <td>13</td>\n",
       "      <td>30</td>\n",
       "      <td>distance</td>\n",
       "      <td>0.703125</td>\n",
       "      <td>1.000000</td>\n",
       "      <td>0.625021</td>\n",
       "      <td>1.000000</td>\n",
       "      <td>0.775788</td>\n",
       "      <td>1.000000</td>\n",
       "    </tr>\n",
       "    <tr>\n",
       "      <td>15</td>\n",
       "      <td>100</td>\n",
       "      <td>distance</td>\n",
       "      <td>0.703125</td>\n",
       "      <td>1.000000</td>\n",
       "      <td>0.583758</td>\n",
       "      <td>1.000000</td>\n",
       "      <td>0.757162</td>\n",
       "      <td>1.000000</td>\n",
       "    </tr>\n",
       "    <tr>\n",
       "      <td>2</td>\n",
       "      <td>3</td>\n",
       "      <td>uniform</td>\n",
       "      <td>0.694792</td>\n",
       "      <td>0.860420</td>\n",
       "      <td>0.646387</td>\n",
       "      <td>0.841092</td>\n",
       "      <td>0.741453</td>\n",
       "      <td>0.933636</td>\n",
       "    </tr>\n",
       "    <tr>\n",
       "      <td>5</td>\n",
       "      <td>5</td>\n",
       "      <td>distance</td>\n",
       "      <td>0.688542</td>\n",
       "      <td>1.000000</td>\n",
       "      <td>0.639328</td>\n",
       "      <td>1.000000</td>\n",
       "      <td>0.775684</td>\n",
       "      <td>1.000000</td>\n",
       "    </tr>\n",
       "    <tr>\n",
       "      <td>6</td>\n",
       "      <td>10</td>\n",
       "      <td>uniform</td>\n",
       "      <td>0.688542</td>\n",
       "      <td>0.764061</td>\n",
       "      <td>0.590884</td>\n",
       "      <td>0.693509</td>\n",
       "      <td>0.751756</td>\n",
       "      <td>0.844851</td>\n",
       "    </tr>\n",
       "    <tr>\n",
       "      <td>8</td>\n",
       "      <td>15</td>\n",
       "      <td>uniform</td>\n",
       "      <td>0.688542</td>\n",
       "      <td>0.736967</td>\n",
       "      <td>0.620079</td>\n",
       "      <td>0.678123</td>\n",
       "      <td>0.737062</td>\n",
       "      <td>0.820623</td>\n",
       "    </tr>\n",
       "    <tr>\n",
       "      <td>3</td>\n",
       "      <td>3</td>\n",
       "      <td>distance</td>\n",
       "      <td>0.686458</td>\n",
       "      <td>1.000000</td>\n",
       "      <td>0.641286</td>\n",
       "      <td>1.000000</td>\n",
       "      <td>0.759397</td>\n",
       "      <td>1.000000</td>\n",
       "    </tr>\n",
       "    <tr>\n",
       "      <td>10</td>\n",
       "      <td>20</td>\n",
       "      <td>uniform</td>\n",
       "      <td>0.677083</td>\n",
       "      <td>0.702064</td>\n",
       "      <td>0.565153</td>\n",
       "      <td>0.597988</td>\n",
       "      <td>0.732232</td>\n",
       "      <td>0.798154</td>\n",
       "    </tr>\n",
       "    <tr>\n",
       "      <td>4</td>\n",
       "      <td>5</td>\n",
       "      <td>uniform</td>\n",
       "      <td>0.675000</td>\n",
       "      <td>0.807293</td>\n",
       "      <td>0.609178</td>\n",
       "      <td>0.775016</td>\n",
       "      <td>0.748789</td>\n",
       "      <td>0.890828</td>\n",
       "    </tr>\n",
       "    <tr>\n",
       "      <td>12</td>\n",
       "      <td>30</td>\n",
       "      <td>uniform</td>\n",
       "      <td>0.673958</td>\n",
       "      <td>0.684888</td>\n",
       "      <td>0.546772</td>\n",
       "      <td>0.562508</td>\n",
       "      <td>0.718024</td>\n",
       "      <td>0.760823</td>\n",
       "    </tr>\n",
       "    <tr>\n",
       "      <td>14</td>\n",
       "      <td>100</td>\n",
       "      <td>uniform</td>\n",
       "      <td>0.603125</td>\n",
       "      <td>0.609365</td>\n",
       "      <td>0.336937</td>\n",
       "      <td>0.358616</td>\n",
       "      <td>0.613755</td>\n",
       "      <td>0.627223</td>\n",
       "    </tr>\n",
       "  </tbody>\n",
       "</table>\n",
       "</div>"
      ],
      "text/plain": [
       "   param_n_neighbors param_weights  mean_test_accuracy  mean_train_accuracy  \\\n",
       "0                  1       uniform            0.711458             1.000000   \n",
       "1                  1      distance            0.711458             1.000000   \n",
       "11                20      distance            0.709375             1.000000   \n",
       "7                 10      distance            0.704167             1.000000   \n",
       "9                 15      distance            0.703125             1.000000   \n",
       "13                30      distance            0.703125             1.000000   \n",
       "15               100      distance            0.703125             1.000000   \n",
       "2                  3       uniform            0.694792             0.860420   \n",
       "5                  5      distance            0.688542             1.000000   \n",
       "6                 10       uniform            0.688542             0.764061   \n",
       "8                 15       uniform            0.688542             0.736967   \n",
       "3                  3      distance            0.686458             1.000000   \n",
       "10                20       uniform            0.677083             0.702064   \n",
       "4                  5       uniform            0.675000             0.807293   \n",
       "12                30       uniform            0.673958             0.684888   \n",
       "14               100       uniform            0.603125             0.609365   \n",
       "\n",
       "    mean_test_f1  mean_train_f1  mean_test_roc_auc  mean_train_roc_auc  \n",
       "0       0.678228       1.000000           0.708682            1.000000  \n",
       "1       0.678228       1.000000           0.708682            1.000000  \n",
       "11      0.647773       1.000000           0.776864            1.000000  \n",
       "7       0.651873       1.000000           0.784004            1.000000  \n",
       "9       0.644133       1.000000           0.778085            1.000000  \n",
       "13      0.625021       1.000000           0.775788            1.000000  \n",
       "15      0.583758       1.000000           0.757162            1.000000  \n",
       "2       0.646387       0.841092           0.741453            0.933636  \n",
       "5       0.639328       1.000000           0.775684            1.000000  \n",
       "6       0.590884       0.693509           0.751756            0.844851  \n",
       "8       0.620079       0.678123           0.737062            0.820623  \n",
       "3       0.641286       1.000000           0.759397            1.000000  \n",
       "10      0.565153       0.597988           0.732232            0.798154  \n",
       "4       0.609178       0.775016           0.748789            0.890828  \n",
       "12      0.546772       0.562508           0.718024            0.760823  \n",
       "14      0.336937       0.358616           0.613755            0.627223  "
      ]
     },
     "metadata": {},
     "output_type": "display_data"
    },
    {
     "name": "stdout",
     "output_type": "stream",
     "text": [
      "{'n_neighbors': 1, 'weights': 'uniform'}\n",
      "0.7114583333333333\n"
     ]
    }
   ],
   "source": [
    "knn = KNeighborsClassifier()\n",
    "knn_param_grid = {\n",
    "    'weights':['uniform', 'distance'],\n",
    "    'n_neighbors': [1, 3, 5, 10, 15, 20, 30, 100]\n",
    "}\n",
    "knn_tuned = tune_model(knn, knn_param_grid, cv=3, max_rows=20)\n",
    "print(knn_tuned.best_params_)\n",
    "print(knn_tuned.best_score_)"
   ]
  },
  {
   "cell_type": "markdown",
   "metadata": {
    "colab_type": "text",
    "id": "GDRgASHfPckz"
   },
   "source": [
    "**<font color='purple'>Answer to (d):</font>** \n",
    "mean_test_f1- it is the mean f1 score on validation set of the combination of parameters after various splits.  \n",
    "mean_train_f1- it is the mean f1 score on training set of the combination of parameters after various splits.\n",
    "mean_test_roc_auc- it is the probability that an instance will be classified correctly given the mean threshold from the various validation sets  for each parameter combination\n",
    "mean_train_roc_auc- it is the probability that an instance will be classified correctly given the mean threshold from the various training sets  for each parameter combination\n",
    "f1- is a measure of how well the model is likely to be correct or not make a mistake (predicting false positives and false negatives)"
   ]
  },
  {
   "cell_type": "markdown",
   "metadata": {
    "colab_type": "text",
    "id": "H9DX4pQ9Pck0"
   },
   "source": [
    "- **(e)** Are different parameter settings ranked similarly according to different evaluation measures? What are the similarities and differences between measures, according to which parameter settings they consider better or worse?"
   ]
  },
  {
   "cell_type": "markdown",
   "metadata": {
    "colab_type": "text",
    "id": "WU2ucT-_Pck2"
   },
   "source": [
    "**<font color='purple'>Answer to (e):</font>**"
   ]
  },
  {
   "cell_type": "markdown",
   "metadata": {
    "colab_type": "text",
    "id": "jXTrWG4bPck3"
   },
   "source": [
    "- **(f)** Tune the Decision Tree learner by trying out 20-100 different combinations of at least 2 parameters. Report the best hyperparameter values and the cross-validated accuracy estimate. Hint: see how the same was done above using knn_tuned object."
   ]
  },
  {
   "cell_type": "code",
   "execution_count": 29,
   "metadata": {
    "colab": {},
    "colab_type": "code",
    "id": "8LtcT7GzPck4"
   },
   "outputs": [
    {
     "name": "stderr",
     "output_type": "stream",
     "text": [
      "C:\\Users\\isaac90\\.conda\\envs\\datascienceml-environment\\lib\\site-packages\\sklearn\\model_selection\\_search.py:813: DeprecationWarning: The default of the `iid` parameter will change from True to False in version 0.22 and will be removed in 0.24. This will change numeric results when test-set sizes are unequal.\n",
      "  DeprecationWarning)\n"
     ]
    },
    {
     "data": {
      "text/html": [
       "<div>\n",
       "<style scoped>\n",
       "    .dataframe tbody tr th:only-of-type {\n",
       "        vertical-align: middle;\n",
       "    }\n",
       "\n",
       "    .dataframe tbody tr th {\n",
       "        vertical-align: top;\n",
       "    }\n",
       "\n",
       "    .dataframe thead th {\n",
       "        text-align: right;\n",
       "    }\n",
       "</style>\n",
       "<table border=\"1\" class=\"dataframe\">\n",
       "  <thead>\n",
       "    <tr style=\"text-align: right;\">\n",
       "      <th></th>\n",
       "      <th>param_criterion</th>\n",
       "      <th>param_max_depth</th>\n",
       "      <th>param_max_features</th>\n",
       "      <th>mean_test_accuracy</th>\n",
       "      <th>mean_train_accuracy</th>\n",
       "      <th>mean_test_f1</th>\n",
       "      <th>mean_train_f1</th>\n",
       "      <th>mean_test_roc_auc</th>\n",
       "      <th>mean_train_roc_auc</th>\n",
       "    </tr>\n",
       "  </thead>\n",
       "  <tbody>\n",
       "    <tr>\n",
       "      <td>23</td>\n",
       "      <td>entropy</td>\n",
       "      <td>15</td>\n",
       "      <td>log2</td>\n",
       "      <td>0.682292</td>\n",
       "      <td>0.891689</td>\n",
       "      <td>0.619952</td>\n",
       "      <td>0.869568</td>\n",
       "      <td>0.691721</td>\n",
       "      <td>0.964628</td>\n",
       "    </tr>\n",
       "    <tr>\n",
       "      <td>30</td>\n",
       "      <td>entropy</td>\n",
       "      <td>25</td>\n",
       "      <td>auto</td>\n",
       "      <td>0.675000</td>\n",
       "      <td>0.982556</td>\n",
       "      <td>0.627580</td>\n",
       "      <td>0.979553</td>\n",
       "      <td>0.672823</td>\n",
       "      <td>0.998157</td>\n",
       "    </tr>\n",
       "    <tr>\n",
       "      <td>22</td>\n",
       "      <td>entropy</td>\n",
       "      <td>15</td>\n",
       "      <td>sqrt</td>\n",
       "      <td>0.671875</td>\n",
       "      <td>0.879135</td>\n",
       "      <td>0.600094</td>\n",
       "      <td>0.854500</td>\n",
       "      <td>0.679148</td>\n",
       "      <td>0.951211</td>\n",
       "    </tr>\n",
       "    <tr>\n",
       "      <td>25</td>\n",
       "      <td>entropy</td>\n",
       "      <td>10</td>\n",
       "      <td>sqrt</td>\n",
       "      <td>0.669792</td>\n",
       "      <td>0.777359</td>\n",
       "      <td>0.547365</td>\n",
       "      <td>0.697567</td>\n",
       "      <td>0.694723</td>\n",
       "      <td>0.863590</td>\n",
       "    </tr>\n",
       "    <tr>\n",
       "      <td>29</td>\n",
       "      <td>entropy</td>\n",
       "      <td>20</td>\n",
       "      <td>log2</td>\n",
       "      <td>0.667708</td>\n",
       "      <td>0.932553</td>\n",
       "      <td>0.600185</td>\n",
       "      <td>0.918203</td>\n",
       "      <td>0.663562</td>\n",
       "      <td>0.984804</td>\n",
       "    </tr>\n",
       "    <tr>\n",
       "      <td>...</td>\n",
       "      <td>...</td>\n",
       "      <td>...</td>\n",
       "      <td>...</td>\n",
       "      <td>...</td>\n",
       "      <td>...</td>\n",
       "      <td>...</td>\n",
       "      <td>...</td>\n",
       "      <td>...</td>\n",
       "      <td>...</td>\n",
       "    </tr>\n",
       "    <tr>\n",
       "      <td>20</td>\n",
       "      <td>entropy</td>\n",
       "      <td>5</td>\n",
       "      <td>log2</td>\n",
       "      <td>0.631250</td>\n",
       "      <td>0.660152</td>\n",
       "      <td>0.388210</td>\n",
       "      <td>0.440790</td>\n",
       "      <td>0.628496</td>\n",
       "      <td>0.680448</td>\n",
       "    </tr>\n",
       "    <tr>\n",
       "      <td>1</td>\n",
       "      <td>gini</td>\n",
       "      <td>5</td>\n",
       "      <td>sqrt</td>\n",
       "      <td>0.629167</td>\n",
       "      <td>0.661454</td>\n",
       "      <td>0.362344</td>\n",
       "      <td>0.406619</td>\n",
       "      <td>0.620925</td>\n",
       "      <td>0.676633</td>\n",
       "    </tr>\n",
       "    <tr>\n",
       "      <td>2</td>\n",
       "      <td>gini</td>\n",
       "      <td>5</td>\n",
       "      <td>log2</td>\n",
       "      <td>0.627083</td>\n",
       "      <td>0.663538</td>\n",
       "      <td>0.340910</td>\n",
       "      <td>0.403045</td>\n",
       "      <td>0.615960</td>\n",
       "      <td>0.685808</td>\n",
       "    </tr>\n",
       "    <tr>\n",
       "      <td>0</td>\n",
       "      <td>gini</td>\n",
       "      <td>5</td>\n",
       "      <td>auto</td>\n",
       "      <td>0.623958</td>\n",
       "      <td>0.657308</td>\n",
       "      <td>0.350744</td>\n",
       "      <td>0.410360</td>\n",
       "      <td>0.626300</td>\n",
       "      <td>0.688266</td>\n",
       "    </tr>\n",
       "    <tr>\n",
       "      <td>19</td>\n",
       "      <td>entropy</td>\n",
       "      <td>5</td>\n",
       "      <td>sqrt</td>\n",
       "      <td>0.607292</td>\n",
       "      <td>0.655457</td>\n",
       "      <td>0.340815</td>\n",
       "      <td>0.413308</td>\n",
       "      <td>0.604443</td>\n",
       "      <td>0.671680</td>\n",
       "    </tr>\n",
       "  </tbody>\n",
       "</table>\n",
       "<p>36 rows × 9 columns</p>\n",
       "</div>"
      ],
      "text/plain": [
       "   param_criterion param_max_depth param_max_features  mean_test_accuracy  \\\n",
       "23         entropy              15               log2            0.682292   \n",
       "30         entropy              25               auto            0.675000   \n",
       "22         entropy              15               sqrt            0.671875   \n",
       "25         entropy              10               sqrt            0.669792   \n",
       "29         entropy              20               log2            0.667708   \n",
       "..             ...             ...                ...                 ...   \n",
       "20         entropy               5               log2            0.631250   \n",
       "1             gini               5               sqrt            0.629167   \n",
       "2             gini               5               log2            0.627083   \n",
       "0             gini               5               auto            0.623958   \n",
       "19         entropy               5               sqrt            0.607292   \n",
       "\n",
       "    mean_train_accuracy  mean_test_f1  mean_train_f1  mean_test_roc_auc  \\\n",
       "23             0.891689      0.619952       0.869568           0.691721   \n",
       "30             0.982556      0.627580       0.979553           0.672823   \n",
       "22             0.879135      0.600094       0.854500           0.679148   \n",
       "25             0.777359      0.547365       0.697567           0.694723   \n",
       "29             0.932553      0.600185       0.918203           0.663562   \n",
       "..                  ...           ...            ...                ...   \n",
       "20             0.660152      0.388210       0.440790           0.628496   \n",
       "1              0.661454      0.362344       0.406619           0.620925   \n",
       "2              0.663538      0.340910       0.403045           0.615960   \n",
       "0              0.657308      0.350744       0.410360           0.626300   \n",
       "19             0.655457      0.340815       0.413308           0.604443   \n",
       "\n",
       "    mean_train_roc_auc  \n",
       "23            0.964628  \n",
       "30            0.998157  \n",
       "22            0.951211  \n",
       "25            0.863590  \n",
       "29            0.984804  \n",
       "..                 ...  \n",
       "20            0.680448  \n",
       "1             0.676633  \n",
       "2             0.685808  \n",
       "0             0.688266  \n",
       "19            0.671680  \n",
       "\n",
       "[36 rows x 9 columns]"
      ]
     },
     "metadata": {},
     "output_type": "display_data"
    },
    {
     "name": "stdout",
     "output_type": "stream",
     "text": [
      "Best hyperparameter values: {'criterion': 'entropy', 'max_depth': 15, 'max_features': 'log2'}\n",
      "Cross-validated accuracy estimate for these parameter values: 0.6822916666666666\n"
     ]
    }
   ],
   "source": [
    "dt = DecisionTreeClassifier()\n",
    "try:\n",
    "    ##### YOUR CODE STARTS ##### (please do not delete this line)\n",
    "    #raise NotImplementedError(\"You need to remove \\\"raise NotImplementedErrors\\\" lines after writing your code!\")\n",
    "    \n",
    "    dt_grid = {'criterion':['gini', 'entropy'],\n",
    "    'max_depth': [5, 15, 10,20, 25,30], 'max_features':['auto','sqrt','log2'] }\n",
    "    dt_tuned = tune_model(dt, dt_grid)\n",
    "    \n",
    "    print('Best hyperparameter values:',dt_tuned.best_params_)\n",
    "    print('Cross-validated accuracy estimate for these parameter values:',dt_tuned.best_score_)\n",
    "    ##### YOUR CODE ENDS ##### (please do not delete this line)\n",
    "    \n",
    "except NotImplementedError as e:\n",
    "    print(CRED,\"TODO:\",e,CEND)\n",
    "except Exception as e:\n",
    "    print(\"Exception:\", e)"
   ]
  },
  {
   "cell_type": "markdown",
   "metadata": {
    "colab_type": "text",
    "id": "dkWgrpdDPck7"
   },
   "source": [
    "- **(g)** Tune the Random Forest learner by trying out 20-100 different combinations of at least 2 parameters. Report the best hyperparameter values and the cross-validated accuracy estimate. Compare columns of mean_train_accuracy and mean_test_accuracy and report which parameter values lead to more overfitting or less overfitting (or whether there is any overfitting at all)."
   ]
  },
  {
   "cell_type": "code",
   "execution_count": 30,
   "metadata": {
    "colab": {},
    "colab_type": "code",
    "id": "prjJMFijPck9"
   },
   "outputs": [
    {
     "name": "stderr",
     "output_type": "stream",
     "text": [
      "C:\\Users\\isaac90\\.conda\\envs\\datascienceml-environment\\lib\\site-packages\\sklearn\\model_selection\\_search.py:813: DeprecationWarning: The default of the `iid` parameter will change from True to False in version 0.22 and will be removed in 0.24. This will change numeric results when test-set sizes are unequal.\n",
      "  DeprecationWarning)\n"
     ]
    },
    {
     "data": {
      "text/html": [
       "<div>\n",
       "<style scoped>\n",
       "    .dataframe tbody tr th:only-of-type {\n",
       "        vertical-align: middle;\n",
       "    }\n",
       "\n",
       "    .dataframe tbody tr th {\n",
       "        vertical-align: top;\n",
       "    }\n",
       "\n",
       "    .dataframe thead th {\n",
       "        text-align: right;\n",
       "    }\n",
       "</style>\n",
       "<table border=\"1\" class=\"dataframe\">\n",
       "  <thead>\n",
       "    <tr style=\"text-align: right;\">\n",
       "      <th></th>\n",
       "      <th>param_criterion</th>\n",
       "      <th>param_max_depth</th>\n",
       "      <th>param_max_features</th>\n",
       "      <th>mean_test_accuracy</th>\n",
       "      <th>mean_train_accuracy</th>\n",
       "      <th>mean_test_f1</th>\n",
       "      <th>mean_train_f1</th>\n",
       "      <th>mean_test_roc_auc</th>\n",
       "      <th>mean_train_roc_auc</th>\n",
       "    </tr>\n",
       "  </thead>\n",
       "  <tbody>\n",
       "    <tr>\n",
       "      <td>7</td>\n",
       "      <td>gini</td>\n",
       "      <td>10</td>\n",
       "      <td>sqrt</td>\n",
       "      <td>0.697917</td>\n",
       "      <td>0.879161</td>\n",
       "      <td>0.618527</td>\n",
       "      <td>0.850655</td>\n",
       "      <td>0.750098</td>\n",
       "      <td>0.961968</td>\n",
       "    </tr>\n",
       "    <tr>\n",
       "      <td>28</td>\n",
       "      <td>entropy</td>\n",
       "      <td>20</td>\n",
       "      <td>sqrt</td>\n",
       "      <td>0.695833</td>\n",
       "      <td>0.968226</td>\n",
       "      <td>0.634225</td>\n",
       "      <td>0.963427</td>\n",
       "      <td>0.744001</td>\n",
       "      <td>0.996819</td>\n",
       "    </tr>\n",
       "    <tr>\n",
       "      <td>6</td>\n",
       "      <td>gini</td>\n",
       "      <td>10</td>\n",
       "      <td>auto</td>\n",
       "      <td>0.695833</td>\n",
       "      <td>0.876037</td>\n",
       "      <td>0.613580</td>\n",
       "      <td>0.847082</td>\n",
       "      <td>0.749988</td>\n",
       "      <td>0.961370</td>\n",
       "    </tr>\n",
       "    <tr>\n",
       "      <td>13</td>\n",
       "      <td>gini</td>\n",
       "      <td>25</td>\n",
       "      <td>sqrt</td>\n",
       "      <td>0.694792</td>\n",
       "      <td>0.980985</td>\n",
       "      <td>0.619107</td>\n",
       "      <td>0.978201</td>\n",
       "      <td>0.744110</td>\n",
       "      <td>0.998749</td>\n",
       "    </tr>\n",
       "    <tr>\n",
       "      <td>34</td>\n",
       "      <td>entropy</td>\n",
       "      <td>30</td>\n",
       "      <td>sqrt</td>\n",
       "      <td>0.693750</td>\n",
       "      <td>0.977339</td>\n",
       "      <td>0.626305</td>\n",
       "      <td>0.974096</td>\n",
       "      <td>0.741421</td>\n",
       "      <td>0.997881</td>\n",
       "    </tr>\n",
       "    <tr>\n",
       "      <td>...</td>\n",
       "      <td>...</td>\n",
       "      <td>...</td>\n",
       "      <td>...</td>\n",
       "      <td>...</td>\n",
       "      <td>...</td>\n",
       "      <td>...</td>\n",
       "      <td>...</td>\n",
       "      <td>...</td>\n",
       "      <td>...</td>\n",
       "    </tr>\n",
       "    <tr>\n",
       "      <td>2</td>\n",
       "      <td>gini</td>\n",
       "      <td>5</td>\n",
       "      <td>log2</td>\n",
       "      <td>0.660417</td>\n",
       "      <td>0.708592</td>\n",
       "      <td>0.457592</td>\n",
       "      <td>0.534749</td>\n",
       "      <td>0.708098</td>\n",
       "      <td>0.815215</td>\n",
       "    </tr>\n",
       "    <tr>\n",
       "      <td>18</td>\n",
       "      <td>entropy</td>\n",
       "      <td>5</td>\n",
       "      <td>auto</td>\n",
       "      <td>0.658333</td>\n",
       "      <td>0.696610</td>\n",
       "      <td>0.446063</td>\n",
       "      <td>0.500689</td>\n",
       "      <td>0.697583</td>\n",
       "      <td>0.805245</td>\n",
       "    </tr>\n",
       "    <tr>\n",
       "      <td>0</td>\n",
       "      <td>gini</td>\n",
       "      <td>5</td>\n",
       "      <td>auto</td>\n",
       "      <td>0.655208</td>\n",
       "      <td>0.714069</td>\n",
       "      <td>0.449328</td>\n",
       "      <td>0.550715</td>\n",
       "      <td>0.695507</td>\n",
       "      <td>0.823985</td>\n",
       "    </tr>\n",
       "    <tr>\n",
       "      <td>1</td>\n",
       "      <td>gini</td>\n",
       "      <td>5</td>\n",
       "      <td>sqrt</td>\n",
       "      <td>0.652083</td>\n",
       "      <td>0.709383</td>\n",
       "      <td>0.456124</td>\n",
       "      <td>0.544361</td>\n",
       "      <td>0.707457</td>\n",
       "      <td>0.829983</td>\n",
       "    </tr>\n",
       "    <tr>\n",
       "      <td>20</td>\n",
       "      <td>entropy</td>\n",
       "      <td>5</td>\n",
       "      <td>log2</td>\n",
       "      <td>0.644792</td>\n",
       "      <td>0.683069</td>\n",
       "      <td>0.381157</td>\n",
       "      <td>0.458964</td>\n",
       "      <td>0.707056</td>\n",
       "      <td>0.809030</td>\n",
       "    </tr>\n",
       "  </tbody>\n",
       "</table>\n",
       "<p>36 rows × 9 columns</p>\n",
       "</div>"
      ],
      "text/plain": [
       "   param_criterion param_max_depth param_max_features  mean_test_accuracy  \\\n",
       "7             gini              10               sqrt            0.697917   \n",
       "28         entropy              20               sqrt            0.695833   \n",
       "6             gini              10               auto            0.695833   \n",
       "13            gini              25               sqrt            0.694792   \n",
       "34         entropy              30               sqrt            0.693750   \n",
       "..             ...             ...                ...                 ...   \n",
       "2             gini               5               log2            0.660417   \n",
       "18         entropy               5               auto            0.658333   \n",
       "0             gini               5               auto            0.655208   \n",
       "1             gini               5               sqrt            0.652083   \n",
       "20         entropy               5               log2            0.644792   \n",
       "\n",
       "    mean_train_accuracy  mean_test_f1  mean_train_f1  mean_test_roc_auc  \\\n",
       "7              0.879161      0.618527       0.850655           0.750098   \n",
       "28             0.968226      0.634225       0.963427           0.744001   \n",
       "6              0.876037      0.613580       0.847082           0.749988   \n",
       "13             0.980985      0.619107       0.978201           0.744110   \n",
       "34             0.977339      0.626305       0.974096           0.741421   \n",
       "..                  ...           ...            ...                ...   \n",
       "2              0.708592      0.457592       0.534749           0.708098   \n",
       "18             0.696610      0.446063       0.500689           0.697583   \n",
       "0              0.714069      0.449328       0.550715           0.695507   \n",
       "1              0.709383      0.456124       0.544361           0.707457   \n",
       "20             0.683069      0.381157       0.458964           0.707056   \n",
       "\n",
       "    mean_train_roc_auc  \n",
       "7             0.961968  \n",
       "28            0.996819  \n",
       "6             0.961370  \n",
       "13            0.998749  \n",
       "34            0.997881  \n",
       "..                 ...  \n",
       "2             0.815215  \n",
       "18            0.805245  \n",
       "0             0.823985  \n",
       "1             0.829983  \n",
       "20            0.809030  \n",
       "\n",
       "[36 rows x 9 columns]"
      ]
     },
     "metadata": {},
     "output_type": "display_data"
    },
    {
     "name": "stdout",
     "output_type": "stream",
     "text": [
      "Best hyperparameter values: {'criterion': 'gini', 'max_depth': 10, 'max_features': 'sqrt'}\n",
      "Cross-validated accuracy estimate for these parameter values: 0.6979166666666666\n"
     ]
    }
   ],
   "source": [
    "rf = RandomForestClassifier()\n",
    "try:\n",
    "    ##### YOUR CODE STARTS ##### (please do not delete this line)\n",
    "    #raise NotImplementedError(\"You need to remove \\\"raise NotImplementedErrors\\\" lines after writing your code!\")\n",
    "    \n",
    "    rf_grid = {'criterion':['gini', 'entropy'],\n",
    "    'max_depth': [5, 15, 10,20, 25,30], 'max_features':['auto','sqrt','log2'] }\n",
    "    rf_tuned = tune_model(rf, rf_grid)\n",
    "    \n",
    "    print('Best hyperparameter values:',rf_tuned.best_params_)\n",
    "    print('Cross-validated accuracy estimate for these parameter values:',rf_tuned.best_score_)\n",
    "    ##### YOUR CODE ENDS ##### (please do not delete this line)\n",
    "    \n",
    "except NotImplementedError as e:\n",
    "    print(CRED,\"TODO:\",e,CEND)\n",
    "except Exception as e:\n",
    "    print(\"Exception:\", e)"
   ]
  },
  {
   "cell_type": "markdown",
   "metadata": {
    "colab_type": "text",
    "id": "gil1bfZbPclA"
   },
   "source": [
    "**<font color='purple'>Answer to (g):</font>**"
   ]
  },
  {
   "cell_type": "markdown",
   "metadata": {
    "colab_type": "text",
    "id": "FsT4c6ViPclC"
   },
   "source": [
    "- **(h)** Tune the SVM-RBF learner by trying out 20-100 different combinations of at least 2 parameters. Report the best hyperparameter values and the cross-validated accuracy estimate. "
   ]
  },
  {
   "cell_type": "code",
   "execution_count": 32,
   "metadata": {
    "colab": {},
    "colab_type": "code",
    "id": "o9_bWJtePclE"
   },
   "outputs": [
    {
     "name": "stderr",
     "output_type": "stream",
     "text": [
      "C:\\Users\\isaac90\\.conda\\envs\\datascienceml-environment\\lib\\site-packages\\sklearn\\model_selection\\_search.py:813: DeprecationWarning: The default of the `iid` parameter will change from True to False in version 0.22 and will be removed in 0.24. This will change numeric results when test-set sizes are unequal.\n",
      "  DeprecationWarning)\n"
     ]
    },
    {
     "data": {
      "text/html": [
       "<div>\n",
       "<style scoped>\n",
       "    .dataframe tbody tr th:only-of-type {\n",
       "        vertical-align: middle;\n",
       "    }\n",
       "\n",
       "    .dataframe tbody tr th {\n",
       "        vertical-align: top;\n",
       "    }\n",
       "\n",
       "    .dataframe thead th {\n",
       "        text-align: right;\n",
       "    }\n",
       "</style>\n",
       "<table border=\"1\" class=\"dataframe\">\n",
       "  <thead>\n",
       "    <tr style=\"text-align: right;\">\n",
       "      <th></th>\n",
       "      <th>param_C</th>\n",
       "      <th>param_degree</th>\n",
       "      <th>param_gamma</th>\n",
       "      <th>mean_test_accuracy</th>\n",
       "      <th>mean_train_accuracy</th>\n",
       "      <th>mean_test_f1</th>\n",
       "      <th>mean_train_f1</th>\n",
       "      <th>mean_test_roc_auc</th>\n",
       "      <th>mean_train_roc_auc</th>\n",
       "    </tr>\n",
       "  </thead>\n",
       "  <tbody>\n",
       "    <tr>\n",
       "      <td>26</td>\n",
       "      <td>0.6</td>\n",
       "      <td>4</td>\n",
       "      <td>0.9</td>\n",
       "      <td>0.715625</td>\n",
       "      <td>0.753652</td>\n",
       "      <td>0.613538</td>\n",
       "      <td>0.667646</td>\n",
       "      <td>0.754919</td>\n",
       "      <td>0.818144</td>\n",
       "    </tr>\n",
       "    <tr>\n",
       "      <td>23</td>\n",
       "      <td>0.6</td>\n",
       "      <td>3</td>\n",
       "      <td>0.9</td>\n",
       "      <td>0.715625</td>\n",
       "      <td>0.753652</td>\n",
       "      <td>0.613538</td>\n",
       "      <td>0.667646</td>\n",
       "      <td>0.754919</td>\n",
       "      <td>0.818144</td>\n",
       "    </tr>\n",
       "    <tr>\n",
       "      <td>20</td>\n",
       "      <td>0.6</td>\n",
       "      <td>2</td>\n",
       "      <td>0.9</td>\n",
       "      <td>0.715625</td>\n",
       "      <td>0.753652</td>\n",
       "      <td>0.613538</td>\n",
       "      <td>0.667646</td>\n",
       "      <td>0.754919</td>\n",
       "      <td>0.818144</td>\n",
       "    </tr>\n",
       "    <tr>\n",
       "      <td>14</td>\n",
       "      <td>0.4</td>\n",
       "      <td>3</td>\n",
       "      <td>0.9</td>\n",
       "      <td>0.710417</td>\n",
       "      <td>0.751570</td>\n",
       "      <td>0.603310</td>\n",
       "      <td>0.661974</td>\n",
       "      <td>0.749140</td>\n",
       "      <td>0.808362</td>\n",
       "    </tr>\n",
       "    <tr>\n",
       "      <td>17</td>\n",
       "      <td>0.4</td>\n",
       "      <td>4</td>\n",
       "      <td>0.9</td>\n",
       "      <td>0.710417</td>\n",
       "      <td>0.751570</td>\n",
       "      <td>0.603310</td>\n",
       "      <td>0.661974</td>\n",
       "      <td>0.749140</td>\n",
       "      <td>0.808362</td>\n",
       "    </tr>\n",
       "    <tr>\n",
       "      <td>...</td>\n",
       "      <td>...</td>\n",
       "      <td>...</td>\n",
       "      <td>...</td>\n",
       "      <td>...</td>\n",
       "      <td>...</td>\n",
       "      <td>...</td>\n",
       "      <td>...</td>\n",
       "      <td>...</td>\n",
       "      <td>...</td>\n",
       "    </tr>\n",
       "    <tr>\n",
       "      <td>12</td>\n",
       "      <td>0.4</td>\n",
       "      <td>3</td>\n",
       "      <td>0.1</td>\n",
       "      <td>0.638542</td>\n",
       "      <td>0.649991</td>\n",
       "      <td>0.415590</td>\n",
       "      <td>0.441221</td>\n",
       "      <td>0.678274</td>\n",
       "      <td>0.692717</td>\n",
       "    </tr>\n",
       "    <tr>\n",
       "      <td>9</td>\n",
       "      <td>0.4</td>\n",
       "      <td>2</td>\n",
       "      <td>0.1</td>\n",
       "      <td>0.638542</td>\n",
       "      <td>0.649991</td>\n",
       "      <td>0.415590</td>\n",
       "      <td>0.441221</td>\n",
       "      <td>0.678274</td>\n",
       "      <td>0.692717</td>\n",
       "    </tr>\n",
       "    <tr>\n",
       "      <td>6</td>\n",
       "      <td>0.2</td>\n",
       "      <td>4</td>\n",
       "      <td>0.1</td>\n",
       "      <td>0.622917</td>\n",
       "      <td>0.631243</td>\n",
       "      <td>0.367579</td>\n",
       "      <td>0.387531</td>\n",
       "      <td>0.668997</td>\n",
       "      <td>0.679678</td>\n",
       "    </tr>\n",
       "    <tr>\n",
       "      <td>3</td>\n",
       "      <td>0.2</td>\n",
       "      <td>3</td>\n",
       "      <td>0.1</td>\n",
       "      <td>0.622917</td>\n",
       "      <td>0.631243</td>\n",
       "      <td>0.367579</td>\n",
       "      <td>0.387531</td>\n",
       "      <td>0.668997</td>\n",
       "      <td>0.679678</td>\n",
       "    </tr>\n",
       "    <tr>\n",
       "      <td>0</td>\n",
       "      <td>0.2</td>\n",
       "      <td>2</td>\n",
       "      <td>0.1</td>\n",
       "      <td>0.622917</td>\n",
       "      <td>0.631243</td>\n",
       "      <td>0.367579</td>\n",
       "      <td>0.387531</td>\n",
       "      <td>0.668997</td>\n",
       "      <td>0.679678</td>\n",
       "    </tr>\n",
       "  </tbody>\n",
       "</table>\n",
       "<p>27 rows × 9 columns</p>\n",
       "</div>"
      ],
      "text/plain": [
       "   param_C param_degree param_gamma  mean_test_accuracy  mean_train_accuracy  \\\n",
       "26     0.6            4         0.9            0.715625             0.753652   \n",
       "23     0.6            3         0.9            0.715625             0.753652   \n",
       "20     0.6            2         0.9            0.715625             0.753652   \n",
       "14     0.4            3         0.9            0.710417             0.751570   \n",
       "17     0.4            4         0.9            0.710417             0.751570   \n",
       "..     ...          ...         ...                 ...                  ...   \n",
       "12     0.4            3         0.1            0.638542             0.649991   \n",
       "9      0.4            2         0.1            0.638542             0.649991   \n",
       "6      0.2            4         0.1            0.622917             0.631243   \n",
       "3      0.2            3         0.1            0.622917             0.631243   \n",
       "0      0.2            2         0.1            0.622917             0.631243   \n",
       "\n",
       "    mean_test_f1  mean_train_f1  mean_test_roc_auc  mean_train_roc_auc  \n",
       "26      0.613538       0.667646           0.754919            0.818144  \n",
       "23      0.613538       0.667646           0.754919            0.818144  \n",
       "20      0.613538       0.667646           0.754919            0.818144  \n",
       "14      0.603310       0.661974           0.749140            0.808362  \n",
       "17      0.603310       0.661974           0.749140            0.808362  \n",
       "..           ...            ...                ...                 ...  \n",
       "12      0.415590       0.441221           0.678274            0.692717  \n",
       "9       0.415590       0.441221           0.678274            0.692717  \n",
       "6       0.367579       0.387531           0.668997            0.679678  \n",
       "3       0.367579       0.387531           0.668997            0.679678  \n",
       "0       0.367579       0.387531           0.668997            0.679678  \n",
       "\n",
       "[27 rows x 9 columns]"
      ]
     },
     "metadata": {},
     "output_type": "display_data"
    },
    {
     "name": "stdout",
     "output_type": "stream",
     "text": [
      "Best hyperparameter values: {'C': 0.6, 'degree': 2, 'gamma': 0.9}\n",
      "Cross-validated accuracy estimate for these parameter values: 0.715625\n"
     ]
    }
   ],
   "source": [
    "try:\n",
    "    ##### YOUR CODE STARTS ##### (please do not delete this line)\n",
    "    #raise NotImplementedError(\"You need to remove \\\"raise NotImplementedErrors\\\" lines after writing your code!\")\n",
    "    \n",
    "    svm = SVC(kernel='rbf', probability=True)\n",
    "    svm_grid = {'C':[0.2,0.4,0.6],'degree':[2,3,4],'gamma':[0.1,0.6,0.9]}\n",
    "    svm_tuned = tune_model(svm, svm_grid)\n",
    "    \n",
    "    print('Best hyperparameter values:',svm_tuned.best_params_)\n",
    "    print('Cross-validated accuracy estimate for these parameter values:',svm_tuned.best_score_)\n",
    "    ##### YOUR CODE ENDS ##### (please do not delete this line)\n",
    "    \n",
    "except NotImplementedError as e:\n",
    "    print(CRED,\"TODO:\",e,CEND)\n",
    "except Exception as e:\n",
    "    print(\"Exception:\", e)"
   ]
  },
  {
   "cell_type": "markdown",
   "metadata": {
    "colab_type": "text",
    "id": "kdxig0zVPclL"
   },
   "source": [
    "- **(i)** All the above models can produce class probabities. For example, with the decision tree the probabilities for the first 5 training instances are as follows. What would the predicted classes on these 5 instances be, if we thresholded the model at probability 0.5?"
   ]
  },
  {
   "cell_type": "code",
   "execution_count": 33,
   "metadata": {
    "colab": {},
    "colab_type": "code",
    "id": "_vpj0zIyPclN"
   },
   "outputs": [
    {
     "data": {
      "text/html": [
       "<div>\n",
       "<style scoped>\n",
       "    .dataframe tbody tr th:only-of-type {\n",
       "        vertical-align: middle;\n",
       "    }\n",
       "\n",
       "    .dataframe tbody tr th {\n",
       "        vertical-align: top;\n",
       "    }\n",
       "\n",
       "    .dataframe thead th {\n",
       "        text-align: right;\n",
       "    }\n",
       "</style>\n",
       "<table border=\"1\" class=\"dataframe\">\n",
       "  <thead>\n",
       "    <tr style=\"text-align: right;\">\n",
       "      <th></th>\n",
       "      <th>0</th>\n",
       "      <th>1</th>\n",
       "    </tr>\n",
       "  </thead>\n",
       "  <tbody>\n",
       "    <tr>\n",
       "      <td>0</td>\n",
       "      <td>0.246481</td>\n",
       "      <td>0.753519</td>\n",
       "    </tr>\n",
       "    <tr>\n",
       "      <td>1</td>\n",
       "      <td>0.250000</td>\n",
       "      <td>0.750000</td>\n",
       "    </tr>\n",
       "    <tr>\n",
       "      <td>2</td>\n",
       "      <td>0.552538</td>\n",
       "      <td>0.447462</td>\n",
       "    </tr>\n",
       "    <tr>\n",
       "      <td>3</td>\n",
       "      <td>0.112500</td>\n",
       "      <td>0.887500</td>\n",
       "    </tr>\n",
       "    <tr>\n",
       "      <td>4</td>\n",
       "      <td>0.709416</td>\n",
       "      <td>0.290584</td>\n",
       "    </tr>\n",
       "  </tbody>\n",
       "</table>\n",
       "</div>"
      ],
      "text/plain": [
       "          0         1\n",
       "0  0.246481  0.753519\n",
       "1  0.250000  0.750000\n",
       "2  0.552538  0.447462\n",
       "3  0.112500  0.887500\n",
       "4  0.709416  0.290584"
      ]
     },
     "execution_count": 33,
     "metadata": {},
     "output_type": "execute_result"
    }
   ],
   "source": [
    "pd.DataFrame(rf_tuned.predict_proba(X_train)[:5,:],columns=rf_tuned.classes_)"
   ]
  },
  {
   "cell_type": "markdown",
   "metadata": {
    "colab_type": "text",
    "id": "uAd5DbRXPclQ"
   },
   "source": [
    "**<font color='purple'>Answer to (i):</font>** 1 1 0 1 0"
   ]
  },
  {
   "cell_type": "markdown",
   "metadata": {
    "colab_type": "text",
    "id": "KzixQ4ZIPclS"
   },
   "source": [
    "- **(j)** Next we define a new class ThresholdedModel which can be constructed from any classifier which can produce class probabilities using predict_proba function. Construct a ThresholdedModel on rf_tuned with threshold 0.5. Report what the predicted classes are for the first 5 training instances. Also report the overall accuracy and F1-measure on the training set."
   ]
  },
  {
   "cell_type": "code",
   "execution_count": 53,
   "metadata": {
    "colab": {},
    "colab_type": "code",
    "id": "rUQJmpyyPclT"
   },
   "outputs": [],
   "source": [
    "class ThresholdedModel:\n",
    "    def __init__(self,model,threshold):\n",
    "        self.model = model\n",
    "        self.threshold = threshold\n",
    "    def __str__(self):\n",
    "        return('%s thresholded at %f' % (str(self.model.estimator).split('(')[0], self.threshold))\n",
    "    def predict(self,X):\n",
    "        return(np.array(self.model.predict_proba(X)[:,1] >= self.threshold, dtype=int))"
   ]
  },
  {
   "cell_type": "code",
   "execution_count": 54,
   "metadata": {
    "colab": {},
    "colab_type": "code",
    "id": "mdeYX_65PclW"
   },
   "outputs": [
    {
     "name": "stdout",
     "output_type": "stream",
     "text": [
      "Predicted classes of first 5 instances are: [1 1 0 1 0]\n",
      "Training set accuracy: 0.8239583333333333\n",
      "Training set F-measure: 0.7830551989730424\n"
     ]
    }
   ],
   "source": [
    "try:\n",
    "    ##### YOUR CODE STARTS ##### (please do not delete this line)\n",
    "    #raise NotImplementedError(\"You need to remove \\\"raise NotImplementedErrors\\\" lines after writing your code!\")\n",
    "\n",
    "    rf_thr05 = ThresholdedModel(rf_tuned,0.5)\n",
    "    rf_thr05_predictions = rf_thr05.predict(X_train)\n",
    "    print('Predicted classes of first 5 instances are:',rf_thr05_predictions[:5] )\n",
    "    print('Training set accuracy:',accuracy_score(y_train,rf_thr05_predictions))\n",
    "    print('Training set F-measure:',f1_score(y_train,rf_thr05_predictions))\n",
    "    \n",
    "except NotImplementedError as e:\n",
    "    print(CRED,\"TODO:\",e,CEND)\n",
    "except Exception as e:\n",
    "    print(\"Exception:\", e)"
   ]
  },
  {
   "cell_type": "markdown",
   "metadata": {
    "colab_type": "text",
    "id": "rh0RtOVzPcla"
   },
   "source": [
    "- **(k)** Next we define a function to consider all possible thresholds and find the one which maximizes the F-measure on the training data. Please explain what each of the 4 rows is doing in the function."
   ]
  },
  {
   "cell_type": "code",
   "execution_count": 45,
   "metadata": {
    "colab": {},
    "colab_type": "code",
    "id": "jVR9ygTSPclc"
   },
   "outputs": [
    {
     "name": "stdout",
     "output_type": "stream",
     "text": [
      "DecisionTreeClassifier thresholded at 0.500000\n",
      "DecisionTreeClassifier thresholded at 0.500000\n",
      "RandomForestClassifier thresholded at 0.404252\n",
      "RandomForestClassifier thresholded at 0.404252\n",
      "SVC thresholded at 0.259062\n",
      "SVC thresholded at 0.542054\n"
     ]
    }
   ],
   "source": [
    "def optimize_threshold(model, measure_func, X, y):\n",
    "    predictions = model.predict_proba(X)[:,1]    ### ROW 1\n",
    "    thresholds = sorted(np.unique(list(predictions)+[np.inf]))     ### ROW 2\n",
    "    scores = [measure_func(y,np.array(predictions>=t, dtype=int)) for t in thresholds]    ### ROW 3\n",
    "    return(ThresholdedModel(model,thresholds[np.argmax(scores)]))   ### ROW 4\n",
    "\n",
    "\n",
    "dt_opt_f1 = optimize_threshold(dt_tuned,f1_score,X_train,y_train)\n",
    "dt_opt_acc = optimize_threshold(dt_tuned,accuracy_score,X_train,y_train)\n",
    "rf_opt_f1 = optimize_threshold(rf_tuned,f1_score,X_train,y_train)\n",
    "rf_opt_acc = optimize_threshold(rf_tuned,accuracy_score,X_train,y_train)\n",
    "svm_opt_f1 = optimize_threshold(svm_tuned,f1_score,X_train,y_train)\n",
    "svm_opt_acc = optimize_threshold(svm_tuned,accuracy_score,X_train,y_train)\n",
    "print(dt_opt_f1)\n",
    "print(dt_opt_acc)\n",
    "print(rf_opt_f1)\n",
    "print(rf_opt_acc)\n",
    "print(svm_opt_f1)\n",
    "print(svm_opt_acc)"
   ]
  },
  {
   "cell_type": "markdown",
   "metadata": {
    "colab_type": "text",
    "id": "7t9IhMRFPclh"
   },
   "source": [
    "**<font color='purple'>Answer to (k):</font>**row 1 assigns the probabilities for the class 1 to the variable preditions. predict_proba method \n",
    "provides the class probalities for each instance.\n",
    "\n",
    "row 2 passes unique probabilities as thresholds for the classifier.\n",
    "\n",
    "row 3 finds the f1_score or accuracy_score for each of the thresholds.\n",
    "\n",
    "row 4 returns the maximum or highest f1_score or accuracy_score for the model.\n"
   ]
  },
  {
   "cell_type": "markdown",
   "metadata": {
    "colab_type": "text",
    "id": "DXH4Wj8vPclj"
   },
   "source": [
    "- **(l)** Run the code below to evaluate the constructed models with several measures. Judging by accuracy, which of the models are less affected by overfitting, which more affected?"
   ]
  },
  {
   "cell_type": "code",
   "execution_count": 50,
   "metadata": {
    "colab": {},
    "colab_type": "code",
    "id": "lhHdOd6PPcll"
   },
   "outputs": [
    {
     "data": {
      "text/html": [
       "<div>\n",
       "<style scoped>\n",
       "    .dataframe tbody tr th:only-of-type {\n",
       "        vertical-align: middle;\n",
       "    }\n",
       "\n",
       "    .dataframe tbody tr th {\n",
       "        vertical-align: top;\n",
       "    }\n",
       "\n",
       "    .dataframe thead th {\n",
       "        text-align: right;\n",
       "    }\n",
       "</style>\n",
       "<table border=\"1\" class=\"dataframe\">\n",
       "  <thead>\n",
       "    <tr style=\"text-align: right;\">\n",
       "      <th></th>\n",
       "      <th>model</th>\n",
       "      <th>accuracy</th>\n",
       "      <th>precision</th>\n",
       "      <th>recall</th>\n",
       "      <th>f1</th>\n",
       "    </tr>\n",
       "  </thead>\n",
       "  <tbody>\n",
       "    <tr>\n",
       "      <td>0</td>\n",
       "      <td>GridSearchCV(cv=5, error_score='raise-deprecat...</td>\n",
       "      <td>0.888542</td>\n",
       "      <td>0.923280</td>\n",
       "      <td>0.817330</td>\n",
       "      <td>0.867081</td>\n",
       "    </tr>\n",
       "    <tr>\n",
       "      <td>1</td>\n",
       "      <td>DecisionTreeClassifier thresholded at 0.500000</td>\n",
       "      <td>0.888542</td>\n",
       "      <td>0.904040</td>\n",
       "      <td>0.838407</td>\n",
       "      <td>0.869988</td>\n",
       "    </tr>\n",
       "    <tr>\n",
       "      <td>2</td>\n",
       "      <td>DecisionTreeClassifier thresholded at 0.500000</td>\n",
       "      <td>0.888542</td>\n",
       "      <td>0.904040</td>\n",
       "      <td>0.838407</td>\n",
       "      <td>0.869988</td>\n",
       "    </tr>\n",
       "    <tr>\n",
       "      <td>3</td>\n",
       "      <td>GridSearchCV(cv=5, error_score='raise-deprecat...</td>\n",
       "      <td>0.823958</td>\n",
       "      <td>0.866477</td>\n",
       "      <td>0.714286</td>\n",
       "      <td>0.783055</td>\n",
       "    </tr>\n",
       "    <tr>\n",
       "      <td>4</td>\n",
       "      <td>RandomForestClassifier thresholded at 0.404252</td>\n",
       "      <td>0.848958</td>\n",
       "      <td>0.801282</td>\n",
       "      <td>0.878220</td>\n",
       "      <td>0.837989</td>\n",
       "    </tr>\n",
       "    <tr>\n",
       "      <td>5</td>\n",
       "      <td>RandomForestClassifier thresholded at 0.404252</td>\n",
       "      <td>0.848958</td>\n",
       "      <td>0.801282</td>\n",
       "      <td>0.878220</td>\n",
       "      <td>0.837989</td>\n",
       "    </tr>\n",
       "    <tr>\n",
       "      <td>6</td>\n",
       "      <td>GridSearchCV(cv=5, error_score='raise-deprecat...</td>\n",
       "      <td>0.756250</td>\n",
       "      <td>0.845878</td>\n",
       "      <td>0.552693</td>\n",
       "      <td>0.668555</td>\n",
       "    </tr>\n",
       "    <tr>\n",
       "      <td>7</td>\n",
       "      <td>SVC thresholded at 0.542054</td>\n",
       "      <td>0.760417</td>\n",
       "      <td>0.845614</td>\n",
       "      <td>0.564403</td>\n",
       "      <td>0.676966</td>\n",
       "    </tr>\n",
       "    <tr>\n",
       "      <td>8</td>\n",
       "      <td>SVC thresholded at 0.259062</td>\n",
       "      <td>0.671875</td>\n",
       "      <td>0.582111</td>\n",
       "      <td>0.929742</td>\n",
       "      <td>0.715960</td>\n",
       "    </tr>\n",
       "  </tbody>\n",
       "</table>\n",
       "</div>"
      ],
      "text/plain": [
       "                                               model  accuracy  precision  \\\n",
       "0  GridSearchCV(cv=5, error_score='raise-deprecat...  0.888542   0.923280   \n",
       "1     DecisionTreeClassifier thresholded at 0.500000  0.888542   0.904040   \n",
       "2     DecisionTreeClassifier thresholded at 0.500000  0.888542   0.904040   \n",
       "3  GridSearchCV(cv=5, error_score='raise-deprecat...  0.823958   0.866477   \n",
       "4     RandomForestClassifier thresholded at 0.404252  0.848958   0.801282   \n",
       "5     RandomForestClassifier thresholded at 0.404252  0.848958   0.801282   \n",
       "6  GridSearchCV(cv=5, error_score='raise-deprecat...  0.756250   0.845878   \n",
       "7                        SVC thresholded at 0.542054  0.760417   0.845614   \n",
       "8                        SVC thresholded at 0.259062  0.671875   0.582111   \n",
       "\n",
       "     recall        f1  \n",
       "0  0.817330  0.867081  \n",
       "1  0.838407  0.869988  \n",
       "2  0.838407  0.869988  \n",
       "3  0.714286  0.783055  \n",
       "4  0.878220  0.837989  \n",
       "5  0.878220  0.837989  \n",
       "6  0.552693  0.668555  \n",
       "7  0.564403  0.676966  \n",
       "8  0.929742  0.715960  "
      ]
     },
     "metadata": {},
     "output_type": "display_data"
    },
    {
     "data": {
      "text/html": [
       "<div>\n",
       "<style scoped>\n",
       "    .dataframe tbody tr th:only-of-type {\n",
       "        vertical-align: middle;\n",
       "    }\n",
       "\n",
       "    .dataframe tbody tr th {\n",
       "        vertical-align: top;\n",
       "    }\n",
       "\n",
       "    .dataframe thead th {\n",
       "        text-align: right;\n",
       "    }\n",
       "</style>\n",
       "<table border=\"1\" class=\"dataframe\">\n",
       "  <thead>\n",
       "    <tr style=\"text-align: right;\">\n",
       "      <th></th>\n",
       "      <th>model</th>\n",
       "      <th>accuracy</th>\n",
       "      <th>precision</th>\n",
       "      <th>recall</th>\n",
       "      <th>f1</th>\n",
       "    </tr>\n",
       "  </thead>\n",
       "  <tbody>\n",
       "    <tr>\n",
       "      <td>0</td>\n",
       "      <td>GridSearchCV(cv=5, error_score='raise-deprecat...</td>\n",
       "      <td>0.711165</td>\n",
       "      <td>0.686047</td>\n",
       "      <td>0.644809</td>\n",
       "      <td>0.664789</td>\n",
       "    </tr>\n",
       "    <tr>\n",
       "      <td>1</td>\n",
       "      <td>DecisionTreeClassifier thresholded at 0.500000</td>\n",
       "      <td>0.689320</td>\n",
       "      <td>0.648649</td>\n",
       "      <td>0.655738</td>\n",
       "      <td>0.652174</td>\n",
       "    </tr>\n",
       "    <tr>\n",
       "      <td>2</td>\n",
       "      <td>DecisionTreeClassifier thresholded at 0.500000</td>\n",
       "      <td>0.689320</td>\n",
       "      <td>0.648649</td>\n",
       "      <td>0.655738</td>\n",
       "      <td>0.652174</td>\n",
       "    </tr>\n",
       "    <tr>\n",
       "      <td>3</td>\n",
       "      <td>GridSearchCV(cv=5, error_score='raise-deprecat...</td>\n",
       "      <td>0.711165</td>\n",
       "      <td>0.686047</td>\n",
       "      <td>0.644809</td>\n",
       "      <td>0.664789</td>\n",
       "    </tr>\n",
       "    <tr>\n",
       "      <td>4</td>\n",
       "      <td>RandomForestClassifier thresholded at 0.404252</td>\n",
       "      <td>0.684466</td>\n",
       "      <td>0.616740</td>\n",
       "      <td>0.765027</td>\n",
       "      <td>0.682927</td>\n",
       "    </tr>\n",
       "    <tr>\n",
       "      <td>5</td>\n",
       "      <td>RandomForestClassifier thresholded at 0.404252</td>\n",
       "      <td>0.684466</td>\n",
       "      <td>0.616740</td>\n",
       "      <td>0.765027</td>\n",
       "      <td>0.682927</td>\n",
       "    </tr>\n",
       "    <tr>\n",
       "      <td>6</td>\n",
       "      <td>GridSearchCV(cv=5, error_score='raise-deprecat...</td>\n",
       "      <td>0.728155</td>\n",
       "      <td>0.744828</td>\n",
       "      <td>0.590164</td>\n",
       "      <td>0.658537</td>\n",
       "    </tr>\n",
       "    <tr>\n",
       "      <td>7</td>\n",
       "      <td>SVC thresholded at 0.542054</td>\n",
       "      <td>0.730583</td>\n",
       "      <td>0.740000</td>\n",
       "      <td>0.606557</td>\n",
       "      <td>0.666667</td>\n",
       "    </tr>\n",
       "    <tr>\n",
       "      <td>8</td>\n",
       "      <td>SVC thresholded at 0.259062</td>\n",
       "      <td>0.614078</td>\n",
       "      <td>0.538217</td>\n",
       "      <td>0.923497</td>\n",
       "      <td>0.680080</td>\n",
       "    </tr>\n",
       "  </tbody>\n",
       "</table>\n",
       "</div>"
      ],
      "text/plain": [
       "                                               model  accuracy  precision  \\\n",
       "0  GridSearchCV(cv=5, error_score='raise-deprecat...  0.711165   0.686047   \n",
       "1     DecisionTreeClassifier thresholded at 0.500000  0.689320   0.648649   \n",
       "2     DecisionTreeClassifier thresholded at 0.500000  0.689320   0.648649   \n",
       "3  GridSearchCV(cv=5, error_score='raise-deprecat...  0.711165   0.686047   \n",
       "4     RandomForestClassifier thresholded at 0.404252  0.684466   0.616740   \n",
       "5     RandomForestClassifier thresholded at 0.404252  0.684466   0.616740   \n",
       "6  GridSearchCV(cv=5, error_score='raise-deprecat...  0.728155   0.744828   \n",
       "7                        SVC thresholded at 0.542054  0.730583   0.740000   \n",
       "8                        SVC thresholded at 0.259062  0.614078   0.538217   \n",
       "\n",
       "     recall        f1  \n",
       "0  0.644809  0.664789  \n",
       "1  0.655738  0.652174  \n",
       "2  0.655738  0.652174  \n",
       "3  0.644809  0.664789  \n",
       "4  0.765027  0.682927  \n",
       "5  0.765027  0.682927  \n",
       "6  0.590164  0.658537  \n",
       "7  0.606557  0.666667  \n",
       "8  0.923497  0.680080  "
      ]
     },
     "metadata": {},
     "output_type": "display_data"
    }
   ],
   "source": [
    "from sklearn.metrics import SCORERS,make_scorer\n",
    "\n",
    "def evaluate_models(models,measures,X,y):\n",
    "    return(pd.concat( [pd.DataFrame({'model':[str(model) for model in models]}),\n",
    "        pd.DataFrame({measure:[SCORERS[measure](model,X,y) for model in models] for measure in measures}) ],axis=1))\n",
    "\n",
    "models = [dt_tuned,dt_opt_acc,dt_opt_f1,\n",
    "          rf_tuned,rf_opt_acc,rf_opt_f1,\n",
    "          svm_tuned,svm_opt_acc,svm_opt_f1]\n",
    "measures = ['accuracy','precision','recall','f1']\n",
    "display(evaluate_models(models,measures,X_train,y_train))\n",
    "display(evaluate_models(models,measures,X_test,y_test))"
   ]
  },
  {
   "cell_type": "markdown",
   "metadata": {
    "colab_type": "text",
    "id": "XFta_UICPclp"
   },
   "source": [
    "**<font color='purple'>Answer to (l):</font>** the support vector models are less affected by overfitting. the Random forest and Decision trees are more affected by overfitting although their tuned models are fairly okay."
   ]
  },
  {
   "cell_type": "markdown",
   "metadata": {
    "colab_type": "text",
    "id": "_QLCyd4iPclq"
   },
   "source": [
    "- **(m)** From the above tables compare the F-measure performance of the cross-validated model using default threshold (*_tuned) with the threshold specifically optimised for F-measure. Was there any benefit from threshold optimisation?"
   ]
  },
  {
   "cell_type": "markdown",
   "metadata": {
    "colab_type": "text",
    "id": "jkIYGpOPPclr"
   },
   "source": [
    "**<font color='purple'>Answer to (m):</font>**  The oprtimized models performed slightly better than the tuned approximately >=0.04 in the cases of the SVM and Random forest for the training set. The same cannot be said for the test data. O the test data the opt models for RF and SVM did slightly better than the tuned model but not with a difference as high as on the training data."
   ]
  },
  {
   "cell_type": "markdown",
   "metadata": {
    "colab_type": "text",
    "id": "9KWCjKU8Pclw"
   },
   "source": [
    "- **(n)** From the above tables compare the accuracy performance of the cross-validated model using default threshold (*_tuned) with the threshold specifically optimised for accuracy. Was there any benefit from threshold optimisation?"
   ]
  },
  {
   "cell_type": "markdown",
   "metadata": {
    "colab_type": "text",
    "id": "SggDUED-Pclx"
   },
   "source": [
    "**<font color='purple'>Answer to (n):</font>**The oprtimized models performed slightly better than the tuned approximately >=0.02 in the cases of the SVM and Random forest. The optmized DT was as good as the tuned for the training set. The same cannot be said for the test data.On the test data the tuned models performed better than the optimized models."
   ]
  },
  {
   "cell_type": "markdown",
   "metadata": {
    "colab_type": "text",
    "id": "hniCfNcEPcl0"
   },
   "source": [
    "- **(o)** Compare the confusion matrices on the test data for two of the models from subtask (l). Choose one which has high F-measure and one which has high accuracy. What are the key differences between these confusion matrices?"
   ]
  },
  {
   "cell_type": "code",
   "execution_count": 58,
   "metadata": {
    "colab": {},
    "colab_type": "code",
    "id": "MdPELalSPcl2"
   },
   "outputs": [
    {
     "name": "stdout",
     "output_type": "stream",
     "text": [
      "[[190  39]\n",
      " [ 72 111]]\n",
      "[[142  87]\n",
      " [ 43 140]]\n"
     ]
    }
   ],
   "source": [
    "try:\n",
    "    ##### YOUR CODE STARTS ##### (please do not delete this line)\n",
    "    #raise NotImplementedError(\"You need to remove \\\"raise NotImplementedErrors\\\" lines after writing your code!\")\n",
    "    svc05 = ThresholdedModel(svm_tuned,0.542054)\n",
    "    rf04 = ThresholdedModel(rf_tuned,0.404252)\n",
    "    \n",
    "    print(confusion_matrix(y_test,svc05.predict(X_test)))\n",
    "    print(confusion_matrix(y_test,rf04.predict(X_test)))\n",
    "    ##### YOUR CODE ENDS ##### (please do not delete this line)\n",
    "\n",
    "except NotImplementedError as e:\n",
    "    print(CRED,\"TODO:\",e,CEND)\n",
    "except Exception as e:\n",
    "    print(\"Exception:\", e)"
   ]
  },
  {
   "cell_type": "markdown",
   "metadata": {
    "colab_type": "text",
    "id": "7iYC2YlvPcl5"
   },
   "source": [
    "**<font color='purple'>Answer to (o):</font>**"
   ]
  },
  {
   "cell_type": "markdown",
   "metadata": {
    "colab_type": "text",
    "id": "F7BdDGeGPcl5"
   },
   "source": [
    "- **(p)** Finally, draw the ROC curves for the scoring classifiers and add the thresholded models to the plot using our given code, on the training data. Is some model dominating over any other (higher everywhere)? What are the main differences between the ROC curves on train and test data?"
   ]
  },
  {
   "cell_type": "code",
   "execution_count": 47,
   "metadata": {
    "colab": {},
    "colab_type": "code",
    "id": "BRRpqlLUPcl6"
   },
   "outputs": [],
   "source": [
    "def roc_plot(models, thresholded_models, X, y):\n",
    "    fig = plt.figure(figsize=(8,8))\n",
    "    for model in models:\n",
    "        probs = model.predict_proba(X)[:,1]\n",
    "        auc = roc_auc_score(y, probs)\n",
    "        fpr,tpr,thr = roc_curve(y,probs)\n",
    "        plt.plot(fpr, tpr, label='{} (AUC={:.2f})'.format(str(model.estimator).split('(')[0], auc))\n",
    "    for t_model in thresholded_models:\n",
    "        y_pred = t_model.predict(X)\n",
    "        tpr = np.sum(np.logical_and(y_pred, y == 1)) / np.sum(y == 1)\n",
    "        fpr = np.sum(np.logical_and(y_pred, y == 0)) / np.sum(y == 0)\n",
    "        plt.plot(fpr, tpr, 'x', label='{}'.format(str(t_model)))\n",
    "    plt.xlabel('FPR')\n",
    "    plt.ylabel('TPR')\n",
    "    plt.legend()\n",
    "    plt.show()"
   ]
  },
  {
   "cell_type": "code",
   "execution_count": 48,
   "metadata": {
    "colab": {},
    "colab_type": "code",
    "id": "BDfDGl7gPcl9"
   },
   "outputs": [
    {
     "data": {
      "image/png": "[encoded data removed]",
      "text/plain": [
       "<Figure size 576x576 with 1 Axes>"
      ]
     },
     "metadata": {
      "needs_background": "light"
     },
     "output_type": "display_data"
    },
    {
     "data": {
      "image/png": "[encoded data removed]",
      "text/plain": [
       "<Figure size 576x576 with 1 Axes>"
      ]
     },
     "metadata": {
      "needs_background": "light"
     },
     "output_type": "display_data"
    }
   ],
   "source": [
    "roc_plot([svm_tuned,rf_tuned,dt_tuned],[svm_opt_acc,svm_opt_f1,dt_opt_acc,dt_opt_f1,rf_opt_acc,rf_opt_f1],X_train,y_train)\n",
    "roc_plot([svm_tuned,rf_tuned,dt_tuned],[svm_opt_acc,svm_opt_f1,dt_opt_acc,dt_opt_f1,rf_opt_acc,rf_opt_f1],X_test,y_test)"
   ]
  },
  {
   "cell_type": "markdown",
   "metadata": {
    "colab_type": "text",
    "id": "Tx-8Z2nNPcl_"
   },
   "source": [
    "**<font color='purple'>Answer to (p):</font>** on the training data, the DT model is the best but the worst performer on the test data. the SVC and the RF have a similar accuracy on the test data. the ROC data shows that the DT is overfitted."
   ]
  },
  {
   "cell_type": "markdown",
   "metadata": {
    "colab_type": "text",
    "id": "DC46ujipPcmA"
   },
   "source": [
    "## Task 2: Logistic regression (4 points)"
   ]
  },
  {
   "cell_type": "code",
   "execution_count": 195,
   "metadata": {
    "colab": {},
    "colab_type": "code",
    "id": "tc3UBbH1PcmA",
    "scrolled": true
   },
   "outputs": [
    {
     "data": {
      "image/png": "[encoded data removed]",
      "text/plain": [
       "<Figure size 432x288 with 1 Axes>"
      ]
     },
     "metadata": {
      "needs_background": "light"
     },
     "output_type": "display_data"
    }
   ],
   "source": [
    "import numpy as np\n",
    "import matplotlib.pyplot as plt\n",
    "%matplotlib inline\n",
    "\n",
    "def create_synthetic_data(n_instances):\n",
    "    n_positives = round(n_instances/2)\n",
    "    n_negatives = n_instances - n_positives\n",
    "    X = np.zeros((n_instances,2))\n",
    "    X[:n_positives,:] = np.random.multivariate_normal((-1,+1),((2,-1),(-1,2)),n_positives)\n",
    "    X[n_positives:,:] = np.random.multivariate_normal((+1,-1),((2,-1.5),(-1.5,2)),n_negatives)\n",
    "    Y = n_positives*[1]+n_negatives*[0]\n",
    "    return(X,Y)\n",
    "\n",
    "np.random.seed(0)\n",
    "train_X, train_Y = create_synthetic_data(200)\n",
    "test_X, test_Y = create_synthetic_data(20000)\n",
    "\n",
    "plt.scatter(train_X[:, 0], train_X[:, 1], s=30, c=train_Y, cmap=plt.cm.Paired, edgecolors='k')\n",
    "plt.axis([-5, 5, -5, 5])\n",
    "plt.show()\n",
    "\n",
    "\n",
    "#train_X.shape[1],1\n"
   ]
  },
  {
   "cell_type": "markdown",
   "metadata": {
    "colab_type": "text",
    "id": "xduM34PzPcmD"
   },
   "source": [
    "- **(a)** Implement logistic regression using gradient descent of cross entropy. For this look up the formula for cross entropy and its gradient formulas from the lecture slides. Print out the final weights and bias term. Print out the number of iterations that the algorithm ran.  "
   ]
  },
  {
   "cell_type": "markdown",
   "metadata": {
    "colab_type": "text",
    "id": "C6KkuTwKPcmE"
   },
   "source": [
    "**<font color='purple'>(a) Your implementation, prints out the final weights and bias term and the number of iterations:</font>**"
   ]
  },
  {
   "cell_type": "code",
   "execution_count": 200,
   "metadata": {
    "colab": {},
    "colab_type": "code",
    "id": "mq9PPvCqPcmF"
   },
   "outputs": [],
   "source": [
    "try:\n",
    "    ##### YOUR CODE STARTS ##### (please do not delete this line)\n",
    "    #raise NotImplementedError(\"You need to remove \\\"raise NotImplementedErrors\\\" lines after writing your code!\")\n",
    "    class LogisticRegression :\n",
    "        def __init__(self,lr,X,y) :\n",
    "            self.lr =lr\n",
    "            self.X = X\n",
    "            self.y = y\n",
    "      \n",
    "        \n",
    "        def sigmoid (self,theta):\n",
    "            return 1/(1+np.exp(-theta))\n",
    "                      \n",
    "        def loss (self,y_pred,y):\n",
    "            return np.mean((-y * np.log(y_pred) -[1-t for t in y]* np.log(1-b for b in y_pred))) \n",
    "                      \n",
    "        def fit (self,X,y):\n",
    "            iterr =0\n",
    "            iterr_list=[0]\n",
    "            cross_list = [0]\n",
    "            np.random.seed(0)\n",
    "            self.W = np.zeros(X.shape[1])\n",
    "            theta = np.dot(X,self.W)\n",
    "            y_pred = self.sigmoid(theta)\n",
    "            converged = False\n",
    "            while not converged:\n",
    "                cross_entropy = self.loss(y_pred,y)\n",
    "                cross_list.append(cross_entropy)\n",
    "                iterr +=1\n",
    "                iterr_list.append(iterr)\n",
    "                if cross_list[iterr] - cross_list[iterr-1] > 0.001:\n",
    "                    self.W -=   self.lr*np.sum(np.dot(X,(y_pred-y)))\n",
    "                    converged = False\n",
    "            return (iterr_list,cross_list)\n",
    "            print(W, iterr, b)\n",
    "    ##### YOUR CODE ENDS ##### (please do not delete this line)\n",
    "    \n",
    "except NotImplementedError as e:\n",
    "    print(CRED,\"TODO:\",e,CEND)\n",
    "except Exception as e:\n",
    "    print(\"Exception:\", e)"
   ]
  },
  {
   "cell_type": "markdown",
   "metadata": {
    "colab_type": "text",
    "id": "F5au-6vmPcmL"
   },
   "source": [
    "- **(b)** Supplement each iteration of your above implementation with the calculation of cross entropy on the training data and on the test data. Make a plot with iteration number on the x-axis and cross entropy on the y-axis, with training and test loss shown in different colour. Discuss if you see signs of overfitting."
   ]
  },
  {
   "cell_type": "markdown",
   "metadata": {
    "colab_type": "text",
    "id": "0HZ038O7PcmM"
   },
   "source": [
    "**<font color='purple'>(b) Your implementation making the plot:</font>**"
   ]
  },
  {
   "cell_type": "code",
   "execution_count": 201,
   "metadata": {
    "colab": {},
    "colab_type": "code",
    "id": "bcJKmpkQPcmN"
   },
   "outputs": [
    {
     "name": "stdout",
     "output_type": "stream",
     "text": [
      "Exception: bad operand type for unary -: 'list'\n"
     ]
    }
   ],
   "source": [
    "try:\n",
    "    ##### YOUR CODE STARTS ##### (please do not delete this line)\n",
    "    #raise NotImplementedError(\"You need to remove \\\"raise NotImplementedErrors\\\" lines after writing your code!\")\n",
    "    lr_test =LogisticRegression(lr=0.5,X=train_X,y=train_Y)\n",
    "    lr_test = lr_test.fit(train_X,train_Y)\n",
    "    \n",
    "    ##### YOUR CODE ENDS ##### (please do not delete this line)\n",
    "    \n",
    "except NotImplementedError as e:\n",
    "    print(CRED,\"TODO:\",e,CEND)\n",
    "except Exception as e:\n",
    "    print(\"Exception:\", e)"
   ]
  },
  {
   "cell_type": "code",
   "execution_count": 199,
   "metadata": {},
   "outputs": [
    {
     "ename": "ValueError",
     "evalue": "shapes (200,2) and (3,) not aligned: 2 (dim 1) != 3 (dim 0)",
     "output_type": "error",
     "traceback": [
      "\u001b[1;31m---------------------------------------------------------------------------\u001b[0m",
      "\u001b[1;31mValueError\u001b[0m                                Traceback (most recent call last)",
      "\u001b[1;32m<ipython-input-199-ede92f10fcac>\u001b[0m in \u001b[0;36m<module>\u001b[1;34m\u001b[0m\n\u001b[0;32m      2\u001b[0m \u001b[0mtarget\u001b[0m \u001b[1;33m=\u001b[0m \u001b[0mtrain_Y\u001b[0m\u001b[1;33m\u001b[0m\u001b[1;33m\u001b[0m\u001b[0m\n\u001b[0;32m      3\u001b[0m \u001b[0mW\u001b[0m \u001b[1;33m=\u001b[0m \u001b[1;33m[\u001b[0m\u001b[1;36m0\u001b[0m\u001b[1;33m,\u001b[0m\u001b[1;36m1\u001b[0m\u001b[1;33m,\u001b[0m\u001b[1;36m1\u001b[0m\u001b[1;33m]\u001b[0m\u001b[1;33m\u001b[0m\u001b[1;33m\u001b[0m\u001b[0m\n\u001b[1;32m----> 4\u001b[1;33m \u001b[0mtheta\u001b[0m \u001b[1;33m=\u001b[0m \u001b[0mnp\u001b[0m\u001b[1;33m.\u001b[0m\u001b[0mdot\u001b[0m\u001b[1;33m(\u001b[0m\u001b[0mtrain_X\u001b[0m\u001b[1;33m,\u001b[0m\u001b[0mW\u001b[0m\u001b[1;33m)\u001b[0m\u001b[1;33m\u001b[0m\u001b[1;33m\u001b[0m\u001b[0m\n\u001b[0m\u001b[0;32m      5\u001b[0m \u001b[0mtheta\u001b[0m\u001b[1;33m\u001b[0m\u001b[1;33m\u001b[0m\u001b[0m\n\u001b[0;32m      6\u001b[0m \u001b[0msigs\u001b[0m \u001b[1;33m=\u001b[0m \u001b[1;36m1\u001b[0m\u001b[1;33m/\u001b[0m\u001b[1;33m(\u001b[0m\u001b[1;36m1\u001b[0m\u001b[1;33m+\u001b[0m\u001b[0mnp\u001b[0m\u001b[1;33m.\u001b[0m\u001b[0mexp\u001b[0m\u001b[1;33m(\u001b[0m\u001b[0mtheta\u001b[0m\u001b[1;33m)\u001b[0m\u001b[1;33m)\u001b[0m\u001b[1;33m\u001b[0m\u001b[1;33m\u001b[0m\u001b[0m\n",
      "\u001b[1;31mValueError\u001b[0m: shapes (200,2) and (3,) not aligned: 2 (dim 1) != 3 (dim 0)"
     ]
    }
   ],
   "source": [
    "\n",
    "X = np.array(train_X)\n",
    "target = train_Y \n",
    "W = [0,1,1]\n",
    "theta = np.dot(train_X,W)\n",
    "theta\n",
    "sigs = 1/(1+np.exp(theta))\n",
    "sigs\n",
    "loss= -np.mean((target*np.log(sigs)+[1-t for t in target]*np.log(1-sigs)))\n",
    "loss"
   ]
  },
  {
   "cell_type": "markdown",
   "metadata": {
    "colab_type": "text",
    "id": "y0rT96TVPcmU"
   },
   "source": [
    "**<font color='purple'>Discuss if you see signs of overfitting:</font>**"
   ]
  },
  {
   "cell_type": "markdown",
   "metadata": {
    "colab_type": "text",
    "id": "pubr8NsKPcmW"
   },
   "source": [
    " "
   ]
  },
  {
   "cell_type": "markdown",
   "metadata": {
    "colab_type": "text",
    "id": "Y2FSKFcOPcmW"
   },
   "source": [
    "- **(c)** Compare your learned weights and bias term to those obtained from sklearn implementation of logistic regression (sklearn.linear_model.LogisticRegression). Please use the parameter C value `C=1e10` (this is needed as by default sklearn logistic regression uses regularisation). Print out the final weights and bias term. Print out the differences from what your implementation found (subtract sklearn weights and bias from your weights and bias, respectively, and print out). The coefficients from sklearn implementation and your implementation must not differ by more than 0.001 (if they do then please check your code and possibly run more iterations or adjust the learning rate). "
   ]
  },
  {
   "cell_type": "markdown",
   "metadata": {
    "colab_type": "text",
    "id": "3TmeSreOPcmX"
   },
   "source": [
    "**<font color='purple'>(c) Your code to print the model learned with sklearn implementation of logistic regression and its difference from yours:</font>**"
   ]
  },
  {
   "cell_type": "code",
   "execution_count": null,
   "metadata": {
    "colab": {},
    "colab_type": "code",
    "collapsed": true,
    "id": "WBw98zpxPcmY"
   },
   "outputs": [],
   "source": [
    "try:\n",
    "    ##### YOUR CODE STARTS ##### (please do not delete this line)\n",
    "    raise NotImplementedError(\"You need to remove \\\"raise NotImplementedErrors\\\" lines after writing your code!\")\n",
    "    \n",
    "    ...\n",
    "    \n",
    "    ##### YOUR CODE ENDS ##### (please do not delete this line)\n",
    "    \n",
    "except NotImplementedError as e:\n",
    "    print(CRED,\"TODO:\",e,CEND)\n",
    "except Exception as e:\n",
    "    print(\"Exception:\", e)"
   ]
  },
  {
   "cell_type": "markdown",
   "metadata": {
    "colab_type": "text",
    "id": "D7CacDdPPcmc"
   },
   "source": [
    "- **(d)** Implement logistic regression using **stochastic** gradient descent of cross entropy. Print out the final weights and bias term. Print out the differences in weights and bias between this implementation and sklearn logistic regression (sklearn.linear_model.LogisticRegression, same as in subtask (c)). The coefficients from sklearn implementation and your implementation must not differ by more than 0.001 (if they do then please check your code and possibly run more iterations or adjust the learning rate). "
   ]
  },
  {
   "cell_type": "markdown",
   "metadata": {
    "colab_type": "text",
    "id": "XIWO7u-qPcme"
   },
   "source": [
    "**<font color='purple'>(d) Your implementation, prints out the final weights and bias term and the number of iterations, prints out the differences between your implementation and sklearn:</font>**"
   ]
  },
  {
   "cell_type": "code",
   "execution_count": null,
   "metadata": {
    "colab": {},
    "colab_type": "code",
    "collapsed": true,
    "id": "RP4K1BpLPcmg"
   },
   "outputs": [],
   "source": [
    "try:\n",
    "    ##### YOUR CODE STARTS ##### (please do not delete this line)\n",
    "    raise NotImplementedError(\"You need to remove \\\"raise NotImplementedErrors\\\" lines after writing your code!\")\n",
    "    \n",
    "    ...\n",
    "    \n",
    "    ##### YOUR CODE ENDS ##### (please do not delete this line)\n",
    "    \n",
    "except NotImplementedError as e:\n",
    "    print(CRED,\"TODO:\",e,CEND)\n",
    "except Exception as e:\n",
    "    print(\"Exception:\", e)"
   ]
  },
  {
   "cell_type": "markdown",
   "metadata": {
    "colab_type": "text",
    "id": "ShEl7luqPcmn"
   },
   "source": [
    "- **(e)** About your stochastic gradient descent implementation make the same plot as you did in subtask **(b)** about gradient descent (cross entropy on train and test at each iteration). Discuss if you see signs of overfitting. Discuss the differences of plots about gradient descent and stochastic gradient descent."
   ]
  },
  {
   "cell_type": "markdown",
   "metadata": {
    "colab_type": "text",
    "id": "nR3o0TAyPcmn"
   },
   "source": [
    "**<font color='purple'>Your implementation making the plot:</font>**"
   ]
  },
  {
   "cell_type": "code",
   "execution_count": null,
   "metadata": {
    "colab": {},
    "colab_type": "code",
    "collapsed": true,
    "id": "6RsPI6c6Pcmq"
   },
   "outputs": [],
   "source": [
    "try:\n",
    "    ##### YOUR CODE STARTS ##### (please do not delete this line)\n",
    "    raise NotImplementedError(\"You need to remove \\\"raise NotImplementedErrors\\\" lines after writing your code!\")\n",
    "    \n",
    "    ...\n",
    "    \n",
    "    ##### YOUR CODE ENDS ##### (please do not delete this line)\n",
    "    \n",
    "except NotImplementedError as e:\n",
    "    print(CRED,\"TODO:\",e,CEND)\n",
    "except Exception as e:\n",
    "    print(\"Exception:\", e)"
   ]
  },
  {
   "cell_type": "markdown",
   "metadata": {
    "colab_type": "text",
    "id": "CIBNORxAPcmy"
   },
   "source": [
    "**<font color='purple'>Discuss if you see signs of overfitting:</font>**"
   ]
  },
  {
   "cell_type": "markdown",
   "metadata": {
    "colab_type": "text",
    "id": "wpQBx0LwPcmy"
   },
   "source": [
    " "
   ]
  },
  {
   "cell_type": "markdown",
   "metadata": {
    "colab_type": "text",
    "id": "XmIraKDKPcmz"
   },
   "source": [
    "**<font color='purple'>Discuss the differences of plots about gradient descent and stochastic gradient descent:</font>**"
   ]
  },
  {
   "cell_type": "markdown",
   "metadata": {
    "colab_type": "text",
    "id": "e4ttTRC0Pcm1"
   },
   "source": [
    " "
   ]
  },
  {
   "cell_type": "markdown",
   "metadata": {
    "colab_type": "text",
    "id": "puR4nFcVPcm1"
   },
   "source": [
    "- **(f)** Calculate and report accuracy of the logistic regression model on the test data. Do this on the model learned with sklearn in subtask **(c)**. "
   ]
  },
  {
   "cell_type": "markdown",
   "metadata": {
    "colab_type": "text",
    "id": "C8QMl3VgPcm2"
   },
   "source": [
    "**<font color='purple'>(f) Your implementation reporting accuracy:</font>**"
   ]
  },
  {
   "cell_type": "code",
   "execution_count": null,
   "metadata": {
    "colab": {},
    "colab_type": "code",
    "collapsed": true,
    "id": "AyKSmFQwPcm2"
   },
   "outputs": [],
   "source": [
    "try:\n",
    "    ##### YOUR CODE STARTS ##### (please do not delete this line)\n",
    "    raise NotImplementedError(\"You need to remove \\\"raise NotImplementedErrors\\\" lines after writing your code!\")\n",
    "    \n",
    "    ...\n",
    "    \n",
    "    ##### YOUR CODE ENDS ##### (please do not delete this line)\n",
    "    \n",
    "except NotImplementedError as e:\n",
    "    print(CRED,\"TODO:\",e,CEND)\n",
    "except Exception as e:\n",
    "    print(\"Exception:\", e)"
   ]
  },
  {
   "cell_type": "markdown",
   "metadata": {
    "colab_type": "text",
    "id": "je8Q7wNuPcm4"
   },
   "source": [
    "- **(g)** Since we have generated the data ourselves with balanced classes drawn from two Gaussian distributions, we know what the optimal classifier is. The optimal classifier must predict positive whenever the likelihood of the positive class is higher than the likelihood of the negative class (as the class priors are equal, comparing the likelihoods is sufficient). For each test instance calculate these likelihoods and then calculate the accuracy of the optimal classifier on the test data (this classifier is known as the Bayes-optimal classifier). "
   ]
  },
  {
   "cell_type": "markdown",
   "metadata": {
    "colab_type": "text",
    "id": "NYQ6xhUZPcm6"
   },
   "source": [
    "**<font color='purple'>(g) Add to the following implementation and print accuracy of the Bayes-optimal classifier:</font>**"
   ]
  },
  {
   "cell_type": "code",
   "execution_count": null,
   "metadata": {
    "colab": {},
    "colab_type": "code",
    "collapsed": true,
    "id": "ypL7lQ36Pcm7"
   },
   "outputs": [],
   "source": [
    "from scipy.stats import multivariate_normal\n",
    "\n",
    "\n",
    "try:\n",
    "    ##### YOUR CODE STARTS ##### (please do not delete this line)\n",
    "    raise NotImplementedError(\"You need to remove \\\"raise NotImplementedErrors\\\" lines after writing your code!\")\n",
    "    \n",
    "    pos_likelihood_func = multivariate_normal(mean=(-1,+1), cov=((2,-1),(-1,2))).pdf\n",
    "    neg_likelihood_func = multivariate_normal(mean=(+1,-1), cov=((2,-1.5),(-1.5,2))).pdf\n",
    "\n",
    "    # Example usage:\n",
    "    # print(pos_likelihood_func(test_X))\n",
    "    # print(neg_likelihood_func(test_X))\n",
    "    \n",
    "    ##### YOUR CODE ENDS ##### (please do not delete this line)\n",
    "    \n",
    "except NotImplementedError as e:\n",
    "    print(CRED,\"TODO:\",e,CEND)\n",
    "except Exception as e:\n",
    "    print(\"Exception:\", e)"
   ]
  },
  {
   "cell_type": "markdown",
   "metadata": {
    "colab_type": "text",
    "id": "01VWxhm-Pcm9"
   },
   "source": [
    "- **(h)** Learn a SVM model with RBF kernel with default parameters and report the accuracy on the test data."
   ]
  },
  {
   "cell_type": "markdown",
   "metadata": {
    "colab_type": "text",
    "id": "wcjDU9_CPcm-"
   },
   "source": [
    "**<font color='purple'>(h) Your implementation reporting test accuracy of SVM:</font>**"
   ]
  },
  {
   "cell_type": "code",
   "execution_count": null,
   "metadata": {
    "colab": {},
    "colab_type": "code",
    "collapsed": true,
    "id": "UVNI_RyFPcm-"
   },
   "outputs": [],
   "source": [
    "from sklearn import svm\n",
    "svm_model = svm.SVC()\n",
    "\n",
    "try:\n",
    "    ##### YOUR CODE STARTS ##### (please do not delete this line)\n",
    "    raise NotImplementedError(\"You need to remove \\\"raise NotImplementedErrors\\\" lines after writing your code!\")\n",
    "    \n",
    "    ...\n",
    "    \n",
    "    ##### YOUR CODE ENDS ##### (please do not delete this line)\n",
    "    \n",
    "except NotImplementedError as e:\n",
    "    print(CRED,\"TODO:\",e,CEND)\n",
    "except Exception as e:\n",
    "    print(\"Exception:\", e)"
   ]
  },
  {
   "cell_type": "markdown",
   "metadata": {
    "colab_type": "text",
    "id": "uQmyBK6HPcnA"
   },
   "source": [
    "- **(i)** Draw the decision boundaries of the logistic regression model learned in **(c)**, SVM model learned in **(h)** and the Bayes-optimal model (explained in **(g)**). Discuss whether logistic regression or SVM learned a better model and explain why."
   ]
  },
  {
   "cell_type": "markdown",
   "metadata": {
    "colab_type": "text",
    "id": "6oZJoLuSPcnA"
   },
   "source": [
    "**<font color='purple'>Fill the gaps in the following code:</font>**"
   ]
  },
  {
   "cell_type": "code",
   "execution_count": null,
   "metadata": {
    "colab": {},
    "colab_type": "code",
    "collapsed": true,
    "id": "_vKqr_dtPcnB"
   },
   "outputs": [],
   "source": [
    "def make_plots(lr_model,svm_model):\n",
    "    x1, x2 = np.meshgrid(np.linspace(-5, 5, 500),np.linspace(-5, 5, 500))   \n",
    "    xx = np.c_[x1.ravel(), x2.ravel()]\n",
    "    opt_pred = np.sign(pos_likelihood_func(xx)/(pos_likelihood_func(xx)+neg_likelihood_func(xx))-0.5)\n",
    "    opt_pred = opt_pred.reshape(x1.shape)\n",
    "\n",
    "    lr_pred = np.sign(lr_model.predict(xx)-0.5).reshape(x1.shape)\n",
    "    svm_pred = np.sign(svm_model.predict(xx)-0.5).reshape(x1.shape)\n",
    "    \n",
    "    fig, axes = plt.subplots(1,3,figsize=(15,5))\n",
    "    for i in range(3):\n",
    "        pred = [lr_pred,svm_pred,opt_pred][i]\n",
    "        ax = axes[i]\n",
    "        ax.imshow(pred, interpolation='nearest',\n",
    "                  extent=(x1.min(), x1.max(), x2.min(), x2.max()), aspect='auto',\n",
    "                  origin='lower', cmap=plt.cm.PuOr_r)\n",
    "        contours = ax.contour(x1, x2, pred, levels=[0], linewidths=2)\n",
    "        ax.scatter(train_X[:, 0], train_X[:, 1], s=30, c=train_Y, cmap=plt.cm.Paired,\n",
    "                    edgecolors='k')\n",
    "        ax.axis([-5, 5, -5, 5])\n",
    "    plt.show()"
   ]
  },
  {
   "cell_type": "code",
   "execution_count": null,
   "metadata": {
    "collapsed": true
   },
   "outputs": [],
   "source": [
    "try:\n",
    "    ##### YOUR CODE STARTS ##### (please do not delete this line)\n",
    "    raise NotImplementedError(\"You need to remove \\\"raise NotImplementedErrors\\\" lines after writing your code!\")\n",
    "    \n",
    "    lr_model = # put the logistic regression model here\n",
    "    svm_model = # put the SVM model here\n",
    "    make_plots(lr_model,svm_model)\n",
    "    \n",
    "    ##### YOUR CODE ENDS ##### (please do not delete this line)\n",
    "    \n",
    "except NotImplementedError as e:\n",
    "    print(CRED,\"TODO:\",e,CEND)\n",
    "except Exception as e:\n",
    "    print(\"Exception:\", e)"
   ]
  },
  {
   "cell_type": "markdown",
   "metadata": {
    "colab_type": "text",
    "id": "1K9XqbLnPcnF"
   },
   "source": [
    "**<font color='purple'>Discuss whether logistic regression or SVM learned a better model and explain why:</font>**"
   ]
  },
  {
   "cell_type": "markdown",
   "metadata": {
    "colab_type": "text",
    "id": "VK5wx91-PcnG"
   },
   "source": [
    " "
   ]
  },
  {
   "cell_type": "markdown",
   "metadata": {
    "colab_type": "text",
    "id": "mIIHfgPgPcnH"
   },
   "source": [
    "- **(j)** Use the logistic regression model from subtask **(c)** to obtain class probability estimates on the test data (note that you can easily do **(c)** even if you did not solve **(a)** and **(b)**). Evaluate these probabilities with cross entropy with respect to the actual class. For this implement a function calculating cross entropy. Report the value of cross entropy."
   ]
  },
  {
   "cell_type": "markdown",
   "metadata": {
    "colab_type": "text",
    "id": "sxRPNR6FPcnI"
   },
   "source": [
    "**<font color='purple'>Fill the gaps in the following code and report cross entropy:</font>**"
   ]
  },
  {
   "cell_type": "code",
   "execution_count": null,
   "metadata": {
    "colab": {},
    "colab_type": "code",
    "collapsed": true,
    "id": "oJOPisXrPcnJ"
   },
   "outputs": [],
   "source": [
    "try:\n",
    "    ##### YOUR CODE STARTS ##### (please do not delete this line)\n",
    "    raise NotImplementedError(\"You need to remove \\\"raise NotImplementedErrors\\\" lines after writing your code!\")\n",
    "    \n",
    "    lr_model = ... # put the logistic regression model here\n",
    "    class_prob_estimates = lr_model.predict_proba(test_X)\n",
    "    print(class_prob_estimates[:10, :])\n",
    "\n",
    "    def cross_entropy(predicted_probabilities,actual_classes):\n",
    "        # please implement this function\n",
    "        return(result)\n",
    "\n",
    "    print(cross_entropy(class_prob_estimates,test_Y))\n",
    "    \n",
    "    ##### YOUR CODE ENDS ##### (please do not delete this line)\n",
    "    \n",
    "except NotImplementedError as e:\n",
    "    print(CRED,\"TODO:\",e,CEND)\n",
    "except Exception as e:\n",
    "    print(\"Exception:\", e)"
   ]
  },
  {
   "cell_type": "markdown",
   "metadata": {
    "colab_type": "text",
    "id": "WSlboK5tPcnP"
   },
   "source": [
    "- **(k)** Apply Platt scaling (also called logistic calibration) on the SVM model from **(h)**. Evaluate the resulting probabilities with cross entropy and report the result."
   ]
  },
  {
   "cell_type": "markdown",
   "metadata": {
    "colab_type": "text",
    "id": "5mQC90AvPcnT"
   },
   "source": [
    "**<font color='purple'>Fill the gaps in the following code and report cross entropy:</font>**"
   ]
  },
  {
   "cell_type": "code",
   "execution_count": null,
   "metadata": {
    "colab": {},
    "colab_type": "code",
    "collapsed": true,
    "id": "PwWgAbsKPcnU"
   },
   "outputs": [],
   "source": [
    "from sklearn.calibration import CalibratedClassifierCV\n",
    "\n",
    "svm_cal = CalibratedClassifierCV(svm_model, cv=2, method='sigmoid')\n",
    "svm_cal.fit(train_X, train_Y)\n",
    "svm_cal_prob = svm_cal.predict_proba(test_X)\n",
    "\n",
    "try:\n",
    "    ##### YOUR CODE STARTS ##### (please do not delete this line)\n",
    "    raise NotImplementedError(\"You need to remove \\\"raise NotImplementedErrors\\\" lines after writing your code!\")\n",
    "    \n",
    "    # calculate and print cross entropy on the predicted probabilities\n",
    "    \n",
    "    ##### YOUR CODE ENDS ##### (please do not delete this line)\n",
    "    \n",
    "except NotImplementedError as e:\n",
    "    print(CRED,\"TODO:\",e,CEND)\n",
    "except Exception as e:\n",
    "    print(\"Exception:\", e)"
   ]
  },
  {
   "cell_type": "markdown",
   "metadata": {
    "colab_type": "text",
    "id": "XLUusNVOPcnX"
   },
   "source": [
    "- **(l)** Draw the 0.25-, 0.5- and 0.75-probability lines (also called iso-lines) of the logistic regression model, calibrated SVM model and the Bayes-optimal model. Discuss whether better class probability estimates were obtained from logistic regression or from SVM after calibrating with Platt scaling. Explain why."
   ]
  },
  {
   "cell_type": "markdown",
   "metadata": {
    "colab_type": "text",
    "id": "EdYRYiYEPcnY"
   },
   "source": [
    "**<font color='purple'>Fill the gaps in the following code:</font>**"
   ]
  },
  {
   "cell_type": "code",
   "execution_count": null,
   "metadata": {
    "colab": {},
    "colab_type": "code",
    "collapsed": true,
    "id": "QfwcY1fePcna"
   },
   "outputs": [],
   "source": [
    "def make_prob_plots(lr_model,svm_cal_model):\n",
    "    x1, x2 = np.meshgrid(np.linspace(-5, 5, 500),np.linspace(-5, 5, 500))   \n",
    "    xx = np.c_[x1.ravel(), x2.ravel()]\n",
    "    opt_pred = pos_likelihood_func(xx)/(pos_likelihood_func(xx)+neg_likelihood_func(xx))\n",
    "    opt_pred = opt_pred.reshape(x1.shape)\n",
    "\n",
    "    lr_pred = lr_model.predict_proba(xx)[:,1].reshape(x1.shape)\n",
    "    svm_cal_pred = svm_cal_model.predict_proba(xx)[:,1].reshape(x1.shape)\n",
    "    \n",
    "    fig, axes = plt.subplots(1,3,figsize=(15,5))\n",
    "    for i in range(3):\n",
    "        pred = [lr_pred,svm_cal_pred,opt_pred][i]\n",
    "        ax = axes[i]\n",
    "        ax.imshow(pred, interpolation='nearest',\n",
    "                  extent=(x1.min(), x1.max(), x2.min(), x2.max()), aspect='auto',\n",
    "                  origin='lower', cmap=plt.cm.PuOr_r)\n",
    "        contours = ax.contour(x1, x2, pred, levels=[0.25,0.5,0.75], linewidths=2)\n",
    "        ax.scatter(train_X[:, 0], train_X[:, 1], s=30, c=train_Y, cmap=plt.cm.Paired,\n",
    "                    edgecolors='k')\n",
    "        ax.axis([-5, 5, -5, 5])\n",
    "    plt.show()\n",
    "    \n",
    "\n",
    "\n",
    "try:\n",
    "    ##### YOUR CODE STARTS ##### (please do not delete this line)\n",
    "    raise NotImplementedError(\"You need to remove \\\"raise NotImplementedErrors\\\" lines after writing your code!\")\n",
    "    \n",
    "    lr_model = ... # put the logistic regression model here\n",
    "    svm_cal_model = ... # put the calibrated SVM model here (Platt scaling applied on the SVM model)\n",
    "    make_prob_plots(lr_model,svm_cal_model)\n",
    "    \n",
    "    ##### YOUR CODE ENDS ##### (please do not delete this line)\n",
    "    \n",
    "except NotImplementedError as e:\n",
    "    print(CRED,\"TODO:\",e,CEND)\n",
    "except Exception as e:\n",
    "    print(\"Exception:\", e)"
   ]
  },
  {
   "cell_type": "markdown",
   "metadata": {
    "colab_type": "text",
    "id": "--t57_9NPcnd"
   },
   "source": [
    "**<font color='purple'>Discuss whether better class probability estimates were obtained from logistic regression or from SVM after calibrating with Platt scaling. Explain why:</font>**\n"
   ]
  },
  {
   "cell_type": "markdown",
   "metadata": {},
   "source": [
    " ## <font color='red'>This was the last task! Please restart and run all before submission!</font>"
   ]
  },
  {
   "cell_type": "markdown",
   "metadata": {
    "colab_type": "text",
    "id": "bFu9N7b_Pcnf"
   },
   "source": [
    "## How long did it take you to solve the homework?\n",
    "\n",
    "Please answer as precisely as you can. It does not affect your points or grade in any way. It is okay if it took 0.5 hours or 24 hours. Please count in astronomical hours (1 hour = 60 minutes) and not academic hours (1 hour = 45 minutes). The collected information will be used to improve future homeworks.\n",
    "\n",
    "<font color = \"red\"><b> Replace \"X\" with the amount of _hours_ only. Please, **don't change the unit** \"hours\" or write any other text. </b></font>"
   ]
  },
  {
   "cell_type": "markdown",
   "metadata": {
    "colab_type": "text",
    "id": "W_PcnYCZPcng"
   },
   "source": [
    "**<font color='red'>Task 1 (please change X in the next cell into your estimate)</font>**"
   ]
  },
  {
   "cell_type": "markdown",
   "metadata": {},
   "source": [
    "X hours"
   ]
  },
  {
   "cell_type": "markdown",
   "metadata": {
    "colab_type": "text",
    "id": "h0bTCV86Pcnh"
   },
   "source": [
    "**<font color='red'>Task 2 (please change X in the next cell into your estimate)</font>**"
   ]
  },
  {
   "cell_type": "markdown",
   "metadata": {},
   "source": [
    "X hours"
   ]
  },
  {
   "cell_type": "markdown",
   "metadata": {},
   "source": [
    "**<font color='red'>THANK YOU FOR YOUR EFFORT!</font>**"
   ]
  }
 ],
 "metadata": {
  "anaconda-cloud": {},
  "colab": {
   "name": "ML2019_HW4.ipynb",
   "provenance": []
  },
  "kernelspec": {
   "display_name": "Python 3",
   "language": "python",
   "name": "python3"
  },
  "language_info": {
   "codemirror_mode": {
    "name": "ipython",
    "version": 3
   },
   "file_extension": ".py",
   "mimetype": "text/x-python",
   "name": "python",
   "nbconvert_exporter": "python",
   "pygments_lexer": "ipython3",
   "version": "3.6.9"
  }
 },
 "nbformat": 4,
 "nbformat_minor": 1
}
